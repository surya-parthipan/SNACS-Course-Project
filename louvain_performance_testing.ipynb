{
 "cells": [
  {
   "cell_type": "code",
   "execution_count": 1,
   "metadata": {},
   "outputs": [
    {
     "name": "stdout",
     "output_type": "stream",
     "text": [
      "Note: to be able to use all crisp methods, you need to install some additional packages:  {'karateclub', 'infomap', 'wurlitzer', 'graph_tool'}\n",
      "Note: to be able to use all overlapping methods, you need to install some additional packages:  {'karateclub', 'ASLPAw'}\n",
      "Note: to be able to use all bipartite methods, you need to install some additional packages:  {'infomap', 'wurlitzer'}\n"
     ]
    }
   ],
   "source": [
    "\n",
    "import pandas as pd\n",
    "import numpy as np\n",
    "import matplotlib.pyplot as plt\n",
    "import itertools\n",
    "from matplotlib.pyplot import figure\n",
    "import seaborn as sns\n",
    "import time, timeit\n",
    "from cdlib import algorithms\n",
    "import networkx as nx\n",
    "from networkx.algorithms.community import louvain_communities, \\\n",
    "    label_propagation_communities, partition_quality, lukes_partitioning, \\\n",
    "        modularity, greedy_modularity_communities, naive_greedy_modularity_communities, girvan_newman\n",
    "from networkx.generators.community import LFR_benchmark_graph\n",
    "import community\n",
    "import community.community_louvain\n",
    "from sklearn.metrics.cluster import normalized_mutual_info_score\n",
    "from scipy import stats\n",
    "\n",
    "import random\n",
    "from numpy import random as nprand\n",
    "random.seed(42)\n",
    "nprand.seed(42)"
   ]
  },
  {
   "cell_type": "code",
   "execution_count": 31,
   "metadata": {},
   "outputs": [],
   "source": [
    "# For plotting the community \n",
    "def plot_community(G, communities):\n",
    "    def set_node_community(G, communities):\n",
    "        '''Add community to node attributes'''\n",
    "        for c, v_c in enumerate(communities):\n",
    "            for v in v_c:\n",
    "                # Add 1 to save 0 for external edges\n",
    "                G.nodes[v]['community'] = c + 1\n",
    "    def set_edge_community(G):\n",
    "        '''Find internal edges and add their community to their attributes'''\n",
    "        for v, w, in G.edges:\n",
    "            if G.nodes[v]['community'] == G.nodes[w]['community']:\n",
    "                # Internal edge, mark with community\n",
    "                G.edges[v, w]['community'] = G.nodes[v]['community']\n",
    "            else:\n",
    "                # External edge, mark as 0\n",
    "                G.edges[v, w]['community'] = 0\n",
    "    def get_color(i, r_off=1, g_off=1, b_off=1):\n",
    "        '''Assign a color to a vertex.'''\n",
    "        r0, g0, b0 = 0, 0, 0\n",
    "        n = 16\n",
    "        low, high = 0.1, 0.9\n",
    "        span = high - low\n",
    "        r = low + span * (((i + r_off) * 3) % n) / (n - 1)\n",
    "        g = low + span * (((i + g_off) * 5) % n) / (n - 1)\n",
    "        b = low + span * (((i + b_off) * 7) % n) / (n - 1)\n",
    "        return (r, g, b)\n",
    "    \n",
    "    spring_pos = nx.spring_layout(G) \n",
    "    # Set node and edge communities\n",
    "    set_node_community = set_node_community(G, communities)\n",
    "    set_edge_community = set_edge_community(G)\n",
    "    node_color = [get_color(G.nodes[v]['community']) for v in G.nodes]\n",
    "    # Set community color for edges between members of the same community (internal) and intra-community edges (external)\n",
    "    external = [(v, w) for v, w in G.edges if G.edges[v, w]['community'] == 0]\n",
    "    internal = [(v, w) for v, w in G.edges if G.edges[v, w]['community'] > 0]\n",
    "    internal_color = ['black' for e in internal]\n",
    "    # external edges\n",
    "    nx.draw_networkx(\n",
    "        G,\n",
    "        pos=spring_pos,\n",
    "        node_size=0,\n",
    "        edgelist=external,\n",
    "        edge_color=\"silver\",\n",
    "        node_color=node_color,\n",
    "        alpha=0.5,\n",
    "        with_labels=True)\n",
    "    nx.draw_networkx(\n",
    "        G, pos=spring_pos,\n",
    "        edgelist=internal,\n",
    "        edge_color=internal_color,\n",
    "        node_color=node_color,\n",
    "        alpha=1,\n",
    "        with_labels=True)\n",
    "    return plt.draw()\n",
    "\n",
    "def plt_com(G, communities, algo, dataset):\n",
    "    plt.figure()\n",
    "    plt.title(f'{algo} Algorithm - {dataset}')\n",
    "    plot_community(G, communities)\n",
    "    plt.show()"
   ]
  },
  {
   "cell_type": "code",
   "execution_count": 32,
   "metadata": {},
   "outputs": [],
   "source": [
    "def find_community(G, algo):\n",
    "    if algo == 'Louvain':\n",
    "        start_time = time.time()\n",
    "        # communities = louvain_communities(G, weight='weight', resolution=1, threshold=1e-07, seed=42)\n",
    "        comm = algorithms.louvain(G.to_undirected(), weight='weight', resolution=1.0, randomize=True)\n",
    "        communities = comm.communities\n",
    "        end_time = time.time()\n",
    "    elif algo == 'Greedy_Modularity':\n",
    "        start_time = time.time()\n",
    "        communities = sorted(greedy_modularity_communities(G), key=len, reverse=True)\n",
    "        end_time = time.time()\n",
    "    elif algo == 'Leiden':        \n",
    "        start_time = time.time()\n",
    "        communities = algorithms.leiden(G)\n",
    "        comm = algorithms.leiden(G)\n",
    "        communities = comm.communities\n",
    "        end_time = time.time()\n",
    "    elif algo == 'Girvan_Newman':        \n",
    "        start_time = time.time()\n",
    "        comp = girvan_newman(G)\n",
    "        communities = tuple(sorted(c) for c in next(comp))\n",
    "        end_time = time.time()\n",
    "    elif algo == 'Naive_Greedy':        \n",
    "        start_time = time.time()\n",
    "        communities = naive_greedy_modularity_communities(G.to_undirected())\n",
    "        end_time = time.time()\n",
    "    elif algo == 'WalkTrap':        \n",
    "        start_time = time.time()\n",
    "        comm = algorithms.walktrap(G)\n",
    "        communities = comm.communities\n",
    "        end_time = time.time()\n",
    "    elif algo == 'Surprise':        \n",
    "        start_time = time.time()\n",
    "        comm = algorithms.surprise_communities(G)\n",
    "        communities = comm.communities\n",
    "        end_time = time.time()\n",
    "    total_time = end_time-start_time\n",
    "    return communities, total_time"
   ]
  },
  {
   "cell_type": "code",
   "execution_count": 33,
   "metadata": {},
   "outputs": [],
   "source": [
    "def find_modularity(G, communities):\n",
    "    return modularity(G, communities)"
   ]
  },
  {
   "cell_type": "code",
   "execution_count": 34,
   "metadata": {},
   "outputs": [],
   "source": [
    "def find_quality(G, communities):\n",
    "    partition_quality_score = partition_quality(G, communities)\n",
    "    return partition_quality_score"
   ]
  },
  {
   "cell_type": "code",
   "execution_count": 35,
   "metadata": {},
   "outputs": [],
   "source": [
    "def dataset_desc(G, dataset):\n",
    "\n",
    "    print(f'Dataset Description of {dataset}:')\n",
    "    print(f'Number of Nodes in the network: {len(G.nodes())}')\n",
    "    print(f'Number of Edges in the network: {len(G.edges())}\\n') \n",
    "    \n",
    "    # WCC = nx.weakly_connected_components(G)\n",
    "    # print(f\"Weakly connected component in small graph : {len(list(WCC))}\" )\n",
    "    # SCC = nx.strongly_connected_components(G)\n",
    "    # print(f\"Strongly connected component in small graph : {len(list(SCC))}\" )\n",
    "\n",
    "    # # small Dataset - Largest Strongly Connected component\n",
    "    # largest_SCC = max(nx.strongly_connected_components(G), key=len)\n",
    "    # largest_SCC_subgraph= G.subgraph(largest_SCC)\n",
    "    # print(f\"Number of nodes the largest strongly connected component : {len(nx.nodes(largest_SCC_subgraph))}\")\n",
    "    # print(f\"Number of links the largest strongly connected component : {len(nx.edges(largest_SCC_subgraph))}\")\n",
    "\n",
    "    # # small Dataset - Largest Weakly Connected component\n",
    "    # largest_WCC = max(nx.weakly_connected_components(G), key=len)\n",
    "    # largest_WCC_subgraph= G.subgraph(largest_WCC)\n",
    "    # print(f\"Number of nodes the largest weakly connected component : {len(nx.nodes(largest_WCC_subgraph))}\")\n",
    "    # print(f\"Number of links the largest weakly connected component : {len(nx.edges(largest_WCC_subgraph))}\")"
   ]
  },
  {
   "cell_type": "code",
   "execution_count": null,
   "metadata": {},
   "outputs": [],
   "source": [
    "def performance_testing(G, algo, dataset):\n",
    "    communities, run_time = find_community(G, algo)\n",
    "    print(f'{algo} Algorithm performance on {dataset} Dataset:')\n",
    "    print(f'Communities found : {len(communities)} ')\n",
    "    print(f'Modularity : {modularity(G, communities):.5f}')\n",
    "    # coverage, performance = find_quality(G, communities)\n",
    "    # print(f'Coverage : {coverage:.5f}')\n",
    "    # print(f'Performance : {performance:.5f}')\n",
    "    print(f'Computation Time Taken to find communities: {run_time:.2f}s\\n')\n",
    "    # print(f'Community Detection Visulaization of {algo} algorithm :')\n",
    "    # plt_com(G, communities,algo, dataset)"
   ]
  },
  {
   "cell_type": "code",
   "execution_count": 37,
   "metadata": {},
   "outputs": [],
   "source": [
    "# Dataset\n",
    "karate_club = nx.karate_club_graph()\n",
    "\n",
    "df_amazon = pd.read_csv('./data/Amazon0302.txt', sep='\\t')\n",
    "amazon_dataset = nx.from_pandas_edgelist(df_amazon, create_using=nx.DiGraph())\n",
    "\n",
    "df_webgraph = pd.read_csv('./data/web-Google.txt', sep='\\t')\n",
    "web_graph = nx.from_pandas_edgelist(df_webgraph, create_using=nx.DiGraph())\n",
    "\n",
    "df_biketheft = pd.read_csv('./data/bike_theft/bike_theft_data.csv', sep=',') # over last  10 years\n",
    "bike_theft = nx.from_pandas_edgelist(df_biketheft, create_using=nx.DiGraph())\n",
    "\n",
    "df_biketravel = pd.read_csv('./data/bike_travel/bike_travel_edge_list.csv')\n",
    "bike_travel = nx.from_pandas_edgelist(df_biketravel, create_using=nx.DiGraph())"
   ]
  },
  {
   "cell_type": "code",
   "execution_count": 41,
   "metadata": {},
   "outputs": [],
   "source": [
    "df_amazon_meta = pd.read_csv('./data/amazon_meta/amazon_edge_list.csv')\n",
    "amazon_meta = nx.from_pandas_edgelist(df_amazon_meta[:881736], create_using=nx.DiGraph())"
   ]
  },
  {
   "cell_type": "code",
   "execution_count": null,
   "metadata": {},
   "outputs": [],
   "source": [
    "dataset = ['Karate Club', 'Amazon CoPurchase', 'Google WebGraph', 'Bike Theft Dataset', 'Bike Travel', 'Amazon Meta Dataset']\n",
    "algorithm = ['Louvain', 'Greedy_Modularity', 'Label_Propagation', 'Girvan_Newman', 'Naive_Greedy', 'WalkTrap', 'Surprise']"
   ]
  },
  {
   "cell_type": "code",
   "execution_count": 121,
   "metadata": {},
   "outputs": [
    {
     "name": "stdout",
     "output_type": "stream",
     "text": [
      "Dataset Description of Karate Club:\n",
      "Number of Nodes in the network: 34\n",
      "Number of Edges in the network: 78\n",
      "\n",
      "Louvain Algorithm performance on Karate Club Dataset:\n",
      "Communities found : 4 \n",
      "Modularity : 0.44385\n",
      "Coverage : 0.75641\n",
      "Performance : 0.78253\n",
      "Computation Time Taken to find communities: 0.00s\n",
      "\n",
      "Greedy_Modularity Algorithm performance on Karate Club Dataset:\n",
      "Communities found : 3 \n",
      "Modularity : 0.41096\n",
      "Coverage : 0.75641\n",
      "Performance : 0.71480\n",
      "Computation Time Taken to find communities: 0.00s\n",
      "\n",
      "Leiden Algorithm performance on Karate Club Dataset:\n",
      "Communities found : 4 \n",
      "Modularity : 0.44490\n",
      "Coverage : 0.73077\n",
      "Performance : 0.80392\n",
      "Computation Time Taken to find communities: 0.00s\n",
      "\n",
      "Girvan_Newman Algorithm performance on Karate Club Dataset:\n",
      "Communities found : 2 \n",
      "Modularity : 0.34766\n",
      "Coverage : 0.87179\n",
      "Performance : 0.61141\n",
      "Computation Time Taken to find communities: 0.02s\n",
      "\n",
      "Naive_Greedy Algorithm performance on Karate Club Dataset:\n",
      "Communities found : 3 \n",
      "Modularity : 0.41096\n",
      "Coverage : 0.75641\n",
      "Performance : 0.71480\n",
      "Computation Time Taken to find communities: 0.89s\n",
      "\n",
      "WalkTrap Algorithm performance on Karate Club Dataset:\n",
      "Communities found : 5 \n",
      "Modularity : 0.32316\n",
      "Coverage : 0.58974\n",
      "Performance : 0.83066\n",
      "Computation Time Taken to find communities: 0.00s\n",
      "\n",
      "Surprise Algorithm performance on Karate Club Dataset:\n",
      "Communities found : 7 \n",
      "Modularity : 0.42233\n",
      "Coverage : 0.66667\n",
      "Performance : 0.85561\n",
      "Computation Time Taken to find communities: 0.00s\n",
      "\n"
     ]
    }
   ],
   "source": [
    "# Karate Club\n",
    "dataset_desc(karate_club, dataset[0])\n",
    "performance_testing(karate_club, 'Louvain', dataset[0])\n",
    "performance_testing(karate_club, 'Greedy_Modularity', dataset[0])\n",
    "performance_testing(karate_club, 'Leiden', dataset[0])\n",
    "performance_testing(karate_club, 'Girvan_Newman', dataset[0])\n",
    "performance_testing(karate_club, 'Naive_Greedy', dataset[0])\n",
    "performance_testing(karate_club, 'WalkTrap', dataset[0])\n",
    "performance_testing(karate_club, 'Surprise', dataset[0]) "
   ]
  },
  {
   "cell_type": "code",
   "execution_count": 142,
   "metadata": {},
   "outputs": [
    {
     "name": "stdout",
     "output_type": "stream",
     "text": [
      "Dataset Description of Amazon CoPurchase:\n",
      "Number of Nodes in the network: 262111\n",
      "Number of Edges in the network: 1234877\n",
      "\n",
      "Louvain Algorithm performance on Amazon CoPurchase Dataset:\n",
      "Communities found : 167 \n",
      "Modularity : 0.91357\n",
      "Coverage : 0.93446\n",
      "Performance : 0.97927\n",
      "Computation Time Taken to find communities: 74.41s\n",
      "\n",
      "Leiden Algorithm performance on Amazon CoPurchase Dataset:\n",
      "Communities found : 446 \n",
      "Modularity : 0.05625\n",
      "Coverage : 0.07104\n",
      "Performance : 0.98570\n",
      "Computation Time Taken to find communities: 21.15s\n",
      "\n"
     ]
    }
   ],
   "source": [
    "# Amazon Dataset\n",
    "dataset_desc(amazon_dataset, dataset[1])\n",
    "performance_testing(amazon_dataset, 'Louvain', dataset[1])\n",
    "# performance_testing(amazon_dataset, 'Greedy_Modularity', dataset[1]) # greedy won't perform on Amazon dataset, running for more than 24hrs...\n",
    "performance_testing(amazon_dataset, 'Leiden', dataset[1])\n",
    "# performance_testing(amazon_dataset, 'Girvan_Newman', dataset[1])\n",
    "# performance_testing(amazon_dataset, 'Naive_Greedy', dataset[1])\n",
    "# performance_testing(amazon_dataset, 'WalkTrap', dataset[1])\n",
    "# performance_testing(amazon_dataset, 'Surprise', dataset[1])"
   ]
  },
  {
   "cell_type": "code",
   "execution_count": null,
   "metadata": {},
   "outputs": [],
   "source": [
    "# Google Web Graph Dataset\n",
    "dataset_desc(web_graph, dataset[2])\n",
    "# performance_testing(web_graph, 'Louvain', dataset[2])\n",
    "# performance_testing(web_graph, 'Greedy_Modularity', dataset[2]) # greedy won't perform on Amazon dataset, running for more than 24hrs...\n",
    "performance_testing(web_graph, 'Leiden', dataset[2])\n",
    "performance_testing(web_graph, 'Girvan_Newman', dataset[2])\n",
    "performance_testing(web_graph, 'Naive_Greedy', dataset[2])\n",
    "performance_testing(web_graph, 'WalkTrap', dataset[2])\n",
    "performance_testing(web_graph, 'Surprise', dataset[2])"
   ]
  },
  {
   "cell_type": "code",
   "execution_count": 140,
   "metadata": {},
   "outputs": [
    {
     "name": "stdout",
     "output_type": "stream",
     "text": [
      "Dataset Description of Bike Theft Dataset:\n",
      "Number of Nodes in the network: 18130\n",
      "Number of Edges in the network: 17640\n",
      "\n",
      "Louvain Algorithm performance on Bike Theft Dataset Dataset:\n",
      "Communities found : 490 \n",
      "Modularity : 0.99796\n",
      "Coverage : 1.00000\n",
      "Performance : 0.99807\n",
      "Computation Time Taken to find communities: 0.43s\n",
      "\n"
     ]
    }
   ],
   "source": [
    "# Bike Theft dataset\n",
    "dataset_desc(bike_theft, dataset[3])\n",
    "performance_testing(bike_theft, 'Louvain', dataset[3])\n",
    "# performance_testing(bike_theft, 'Greedy_Modularity', dataset[3])\n",
    "# performance_testing(bike_theft, 'Leiden', dataset[3])\n",
    "# performance_testing(bike_theft, 'Girvan_Newman', dataset[3])\n",
    "# performance_testing(bike_theft.to_undirected(), 'Naive_Greedy', dataset[3])\n",
    "# performance_testing(bike_theft, 'WalkTrap', dataset[3])\n",
    "# performance_testing(bike_theft, 'Surprise', dataset[3])"
   ]
  },
  {
   "cell_type": "code",
   "execution_count": 135,
   "metadata": {},
   "outputs": [
    {
     "name": "stdout",
     "output_type": "stream",
     "text": [
      "Dataset Description of Bike Travel:\n",
      "Number of Nodes in the network: 794\n",
      "Number of Edges in the network: 277852\n",
      "\n",
      "Louvain Algorithm performance on Bike Travel Dataset:\n",
      "Communities found : 3 \n",
      "Modularity : 0.20801\n",
      "Coverage : 0.69975\n",
      "Performance : 0.68496\n",
      "Computation Time Taken to find communities: 2.38s\n",
      "\n",
      "Greedy_Modularity Algorithm performance on Bike Travel Dataset:\n",
      "Communities found : 3 \n",
      "Modularity : 0.20824\n",
      "Coverage : 0.70172\n",
      "Performance : 0.68552\n",
      "Computation Time Taken to find communities: 6.64s\n",
      "\n",
      "Leiden Algorithm performance on Bike Travel Dataset:\n",
      "Communities found : 3 \n",
      "Modularity : 0.20912\n",
      "Coverage : 0.64228\n",
      "Performance : 0.68800\n",
      "Computation Time Taken to find communities: 2.93s\n",
      "\n",
      "Girvan_Newman Algorithm performance on Bike Travel Dataset:\n",
      "Communities found : 2 \n",
      "Modularity : 0.00000\n",
      "Coverage : 1.00000\n",
      "Performance : 0.44380\n",
      "Computation Time Taken to find communities: 51.75s\n",
      "\n",
      "WalkTrap Algorithm performance on Bike Travel Dataset:\n",
      "Communities found : 5 \n",
      "Modularity : 0.16990\n",
      "Coverage : 0.46172\n",
      "Performance : 0.69711\n",
      "Computation Time Taken to find communities: 1.53s\n",
      "\n",
      "Surprise Algorithm performance on Bike Travel Dataset:\n",
      "Communities found : 793 \n",
      "Modularity : 0.00146\n",
      "Coverage : 0.00286\n",
      "Performance : 0.56124\n",
      "Computation Time Taken to find communities: 2.36s\n",
      "\n"
     ]
    }
   ],
   "source": [
    "# Bike Travel Dataset\n",
    "dataset_desc(bike_travel, dataset[4])\n",
    "performance_testing(bike_travel, 'Louvain', dataset[4])\n",
    "performance_testing(bike_travel, 'Greedy_Modularity', dataset[4])\n",
    "performance_testing(bike_travel, 'Leiden', dataset[4])\n",
    "performance_testing(bike_travel, 'Girvan_Newman', dataset[4])\n",
    "# performance_testing(bike_travel.to_undirected(), 'Naive_Greedy', dataset[4])\n",
    "performance_testing(bike_travel, 'WalkTrap', dataset[4])\n",
    "performance_testing(bike_travel, 'Surprise', dataset[4])"
   ]
  },
  {
   "cell_type": "code",
   "execution_count": 152,
   "metadata": {},
   "outputs": [
    {
     "name": "stdout",
     "output_type": "stream",
     "text": [
      "Dataset Description of Amazon Meta Dataset:\n",
      "Number of Nodes in the network: 479749\n",
      "Number of Edges in the network: 881736\n",
      "\n",
      "Louvain Algorithm performance on Amazon Meta Dataset Dataset:\n",
      "Communities found : 6226 \n",
      "Modularity : 0.89734\n",
      "Coverage : 0.93282\n",
      "Performance : 0.97185\n",
      "Computation Time Taken to find communities: 300.74s\n",
      "\n"
     ]
    },
    {
     "ename": "KeyboardInterrupt",
     "evalue": "",
     "output_type": "error",
     "traceback": [
      "\u001b[1;31m---------------------------------------------------------------------------\u001b[0m",
      "\u001b[1;31mKeyboardInterrupt\u001b[0m                         Traceback (most recent call last)",
      "Cell \u001b[1;32mIn [152], line 4\u001b[0m\n\u001b[0;32m      2\u001b[0m dataset_desc(amazon_meta, dataset[\u001b[39m5\u001b[39m])\n\u001b[0;32m      3\u001b[0m performance_testing(amazon_meta, \u001b[39m'\u001b[39m\u001b[39mLouvain\u001b[39m\u001b[39m'\u001b[39m, dataset[\u001b[39m5\u001b[39m])\n\u001b[1;32m----> 4\u001b[0m performance_testing(amazon_meta, \u001b[39m'\u001b[39;49m\u001b[39mGreedy_Modularity\u001b[39;49m\u001b[39m'\u001b[39;49m, dataset[\u001b[39m5\u001b[39;49m])\n\u001b[0;32m      5\u001b[0m performance_testing(amazon_meta, \u001b[39m'\u001b[39m\u001b[39mLeiden\u001b[39m\u001b[39m'\u001b[39m, dataset[\u001b[39m5\u001b[39m])\n\u001b[0;32m      6\u001b[0m performance_testing(amazon_meta, \u001b[39m'\u001b[39m\u001b[39mGirvan_Newman\u001b[39m\u001b[39m'\u001b[39m, dataset[\u001b[39m5\u001b[39m])\n",
      "Cell \u001b[1;32mIn [31], line 2\u001b[0m, in \u001b[0;36mperformance_testing\u001b[1;34m(G, algo, dataset)\u001b[0m\n\u001b[0;32m      1\u001b[0m \u001b[39mdef\u001b[39;00m \u001b[39mperformance_testing\u001b[39m(G, algo, dataset):\n\u001b[1;32m----> 2\u001b[0m     communities, run_time \u001b[39m=\u001b[39m find_community(G, algo)\n\u001b[0;32m      3\u001b[0m     \u001b[39mprint\u001b[39m(\u001b[39mf\u001b[39m\u001b[39m'\u001b[39m\u001b[39m{\u001b[39;00malgo\u001b[39m}\u001b[39;00m\u001b[39m Algorithm performance on \u001b[39m\u001b[39m{\u001b[39;00mdataset\u001b[39m}\u001b[39;00m\u001b[39m Dataset:\u001b[39m\u001b[39m'\u001b[39m)\n\u001b[0;32m      4\u001b[0m     \u001b[39mprint\u001b[39m(\u001b[39mf\u001b[39m\u001b[39m'\u001b[39m\u001b[39mCommunities found : \u001b[39m\u001b[39m{\u001b[39;00m\u001b[39mlen\u001b[39m(communities)\u001b[39m}\u001b[39;00m\u001b[39m \u001b[39m\u001b[39m'\u001b[39m)\n",
      "Cell \u001b[1;32mIn [119], line 10\u001b[0m, in \u001b[0;36mfind_community\u001b[1;34m(G, algo)\u001b[0m\n\u001b[0;32m      8\u001b[0m \u001b[39melif\u001b[39;00m algo \u001b[39m==\u001b[39m \u001b[39m'\u001b[39m\u001b[39mGreedy_Modularity\u001b[39m\u001b[39m'\u001b[39m:\n\u001b[0;32m      9\u001b[0m     start_time \u001b[39m=\u001b[39m time\u001b[39m.\u001b[39mtime()\n\u001b[1;32m---> 10\u001b[0m     communities \u001b[39m=\u001b[39m \u001b[39msorted\u001b[39m(greedy_modularity_communities(G), key\u001b[39m=\u001b[39m\u001b[39mlen\u001b[39m, reverse\u001b[39m=\u001b[39m\u001b[39mTrue\u001b[39;00m)\n\u001b[0;32m     11\u001b[0m     end_time \u001b[39m=\u001b[39m time\u001b[39m.\u001b[39mtime()\n\u001b[0;32m     12\u001b[0m \u001b[39melif\u001b[39;00m algo \u001b[39m==\u001b[39m \u001b[39m'\u001b[39m\u001b[39mLeiden\u001b[39m\u001b[39m'\u001b[39m:        \n",
      "File \u001b[1;32mc:\\Users\\rsury\\AppData\\Local\\Programs\\Python\\Python310\\lib\\site-packages\\networkx\\algorithms\\community\\modularity_max.py:371\u001b[0m, in \u001b[0;36mgreedy_modularity_communities\u001b[1;34m(G, weight, resolution, cutoff, best_n, n_communities)\u001b[0m\n\u001b[0;32m    369\u001b[0m     \u001b[39mif\u001b[39;00m dq \u001b[39m<\u001b[39m \u001b[39m0\u001b[39m \u001b[39mand\u001b[39;00m \u001b[39mlen\u001b[39m(communities) \u001b[39m<\u001b[39m\u001b[39m=\u001b[39m best_n:\n\u001b[0;32m    370\u001b[0m         \u001b[39mbreak\u001b[39;00m\n\u001b[1;32m--> 371\u001b[0m     communities \u001b[39m=\u001b[39m \u001b[39mnext\u001b[39;49m(community_gen)\n\u001b[0;32m    373\u001b[0m \u001b[39mreturn\u001b[39;00m \u001b[39msorted\u001b[39m(communities, key\u001b[39m=\u001b[39m\u001b[39mlen\u001b[39m, reverse\u001b[39m=\u001b[39m\u001b[39mTrue\u001b[39;00m)\n",
      "File \u001b[1;32mc:\\Users\\rsury\\AppData\\Local\\Programs\\Python\\Python310\\lib\\site-packages\\networkx\\algorithms\\community\\modularity_max.py:189\u001b[0m, in \u001b[0;36m_greedy_modularity_communities_generator\u001b[1;34m(G, weight, resolution)\u001b[0m\n\u001b[0;32m    187\u001b[0m             row_max \u001b[39m=\u001b[39m dq_heap_row\u001b[39m.\u001b[39mheap[\u001b[39m0\u001b[39m]\n\u001b[0;32m    188\u001b[0m             \u001b[39mif\u001b[39;00m d_oldmax \u001b[39m!=\u001b[39m row_max \u001b[39mor\u001b[39;00m d_oldmax\u001b[39m.\u001b[39mpriority \u001b[39m!=\u001b[39m row_max\u001b[39m.\u001b[39mpriority:\n\u001b[1;32m--> 189\u001b[0m                 H\u001b[39m.\u001b[39;49mupdate(d_oldmax, row_max)\n\u001b[0;32m    191\u001b[0m \u001b[39m# Remove row/col u from dq_dict matrix\u001b[39;00m\n\u001b[0;32m    192\u001b[0m \u001b[39mfor\u001b[39;00m w \u001b[39min\u001b[39;00m dq_dict[u]:\n\u001b[0;32m    193\u001b[0m     \u001b[39m# Remove from dict\u001b[39;00m\n",
      "File \u001b[1;32mc:\\Users\\rsury\\AppData\\Local\\Programs\\Python\\Python310\\lib\\site-packages\\networkx\\utils\\mapped_queue.py:187\u001b[0m, in \u001b[0;36mMappedQueue.update\u001b[1;34m(self, elt, new, priority)\u001b[0m\n\u001b[0;32m    185\u001b[0m \u001b[39mself\u001b[39m\u001b[39m.\u001b[39mposition[new] \u001b[39m=\u001b[39m pos\n\u001b[0;32m    186\u001b[0m \u001b[39m# Restore invariant by sifting up\u001b[39;00m\n\u001b[1;32m--> 187\u001b[0m \u001b[39mself\u001b[39;49m\u001b[39m.\u001b[39;49m_siftup(pos)\n",
      "File \u001b[1;32mc:\\Users\\rsury\\AppData\\Local\\Programs\\Python\\Python310\\lib\\site-packages\\networkx\\utils\\mapped_queue.py:227\u001b[0m, in \u001b[0;36mMappedQueue._siftup\u001b[1;34m(self, pos)\u001b[0m\n\u001b[0;32m    225\u001b[0m \u001b[39mif\u001b[39;00m right_pos \u001b[39m<\u001b[39m end_pos:\n\u001b[0;32m    226\u001b[0m     right \u001b[39m=\u001b[39m heap[right_pos]\n\u001b[1;32m--> 227\u001b[0m     \u001b[39mif\u001b[39;00m \u001b[39mnot\u001b[39;00m child \u001b[39m<\u001b[39;49m right:\n\u001b[0;32m    228\u001b[0m         child \u001b[39m=\u001b[39m right\n\u001b[0;32m    229\u001b[0m         child_pos \u001b[39m=\u001b[39m right_pos\n",
      "\u001b[1;31mKeyboardInterrupt\u001b[0m: "
     ]
    }
   ],
   "source": [
    "# Amazon Meta-Datset Club\n",
    "dataset_desc(amazon_meta, dataset[5])\n",
    "performance_testing(amazon_meta, 'Louvain', dataset[5])\n",
    "performance_testing(amazon_meta, 'Greedy_Modularity', dataset[5])\n",
    "performance_testing(amazon_meta, 'Leiden', dataset[5])\n",
    "performance_testing(amazon_meta, 'Girvan_Newman', dataset[5])\n",
    "performance_testing(amazon_meta, 'Naive_Greedy', dataset[5])\n",
    "performance_testing(amazon_meta, 'WalkTrap', dataset[5])\n",
    "performance_testing(amazon_meta, 'Surprise', dataset[5])"
   ]
  }
 ],
 "metadata": {
  "kernelspec": {
   "display_name": "Python 3.10.8 64-bit",
   "language": "python",
   "name": "python3"
  },
  "language_info": {
   "codemirror_mode": {
    "name": "ipython",
    "version": 3
   },
   "file_extension": ".py",
   "mimetype": "text/x-python",
   "name": "python",
   "nbconvert_exporter": "python",
   "pygments_lexer": "ipython3",
   "version": "3.10.8"
  },
  "orig_nbformat": 4,
  "vscode": {
   "interpreter": {
    "hash": "989f1c85a0753a3f5387357a9d8cdada932b18385ad81a9223bb8329c9a4fd3b"
   }
  }
 },
 "nbformat": 4,
 "nbformat_minor": 2
}
