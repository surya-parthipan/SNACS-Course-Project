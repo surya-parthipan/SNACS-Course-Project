{
 "cells": [
  {
   "cell_type": "code",
   "execution_count": 1,
   "metadata": {},
   "outputs": [],
   "source": [
    "import pandas as pd\n",
    "import numpy as np\n",
    "import matplotlib.pyplot as plt\n",
    "%matplotlib inline\n",
    "import csv\n",
    "import regex as re"
   ]
  },
  {
   "cell_type": "code",
   "execution_count": 344,
   "metadata": {},
   "outputs": [
    {
     "data": {
      "text/html": [
       "<div>\n",
       "<style scoped>\n",
       "    .dataframe tbody tr th:only-of-type {\n",
       "        vertical-align: middle;\n",
       "    }\n",
       "\n",
       "    .dataframe tbody tr th {\n",
       "        vertical-align: top;\n",
       "    }\n",
       "\n",
       "    .dataframe thead th {\n",
       "        text-align: right;\n",
       "    }\n",
       "</style>\n",
       "<table border=\"1\" class=\"dataframe\">\n",
       "  <thead>\n",
       "    <tr style=\"text-align: right;\">\n",
       "      <th></th>\n",
       "      <th>ID</th>\n",
       "      <th>ASIN</th>\n",
       "      <th>Title</th>\n",
       "      <th>Group</th>\n",
       "      <th>Similar</th>\n",
       "    </tr>\n",
       "  </thead>\n",
       "  <tbody>\n",
       "  </tbody>\n",
       "</table>\n",
       "</div>"
      ],
      "text/plain": [
       "Empty DataFrame\n",
       "Columns: [ID, ASIN, Title, Group, Similar]\n",
       "Index: []"
      ]
     },
     "execution_count": 344,
     "metadata": {},
     "output_type": "execute_result"
    }
   ],
   "source": [
    "df = pd.DataFrame(columns=['ID', 'ASIN', 'Title', 'Group', 'Similar'])\n",
    "df.head()"
   ]
  },
  {
   "cell_type": "code",
   "execution_count": 78,
   "metadata": {},
   "outputs": [],
   "source": [
    "mylines = []                                # Declare an empty list.\n",
    "with open('./data/amazon-meta.txt', 'r', encoding=\"utf8\") as myfile:    # Open lorem.txt for reading text.\n",
    "    for myline in myfile:                   # For each line in the file,\n",
    "        mylines.append(myline.rstrip('\\n')) # strip newline and add to list.\n",
    "\n",
    "meta_data = []\n",
    "each_data = []\n",
    "for i in mylines:\n",
    "    if i != '':\n",
    "        each_data.append(i)\n",
    "    else:\n",
    "        meta_data.append(each_data)\n",
    "        each_data = []"
   ]
  },
  {
   "cell_type": "code",
   "execution_count": 85,
   "metadata": {},
   "outputs": [
    {
     "data": {
      "text/plain": [
       "['Id:   548551',\n",
       " 'ASIN: B00005MHUG',\n",
       " \"  title: That Travelin' Two-Beat/Sings the Great Country Hits\",\n",
       " '  group: Music',\n",
       " '  salesrank: 0',\n",
       " '  similar: 5  B00008OETQ  B00005O6KL  B00006RY87  B0002OTI98  B0000634HG',\n",
       " '  categories: 6',\n",
       " '   |Music[5174]|Styles[301668]|Miscellaneous[35]|Nostalgia[67175]',\n",
       " '   |Music[5174]|Styles[301668]|Broadway & Vocalists[265640]|Classic Vocalists[67178]',\n",
       " '   |Music[5174]|Styles[301668]|Broadway & Vocalists[265640]|Traditional Vocal Pop[513060]',\n",
       " '   |Music[5174]|Styles[301668]|Pop[37]|Vocal Pop[406646]|General[513062]',\n",
       " '   |Music[5174]|Styles[301668]|Pop[37]|Vocal Pop[406646]|Classic[604206]',\n",
       " '   |Music[5174]|Styles[301668]|Broadway & Vocalists[265640]|General[912012]',\n",
       " '  reviews: total: 1  downloaded: 1  avg rating: 5',\n",
       " '    2004-5-31  cutomer:  ABTSEEYVYQ52M  rating: 5  votes:   9  helpful:   9']"
      ]
     },
     "execution_count": 85,
     "metadata": {},
     "output_type": "execute_result"
    }
   ],
   "source": [
    "meta_data[-1]"
   ]
  },
  {
   "cell_type": "code",
   "execution_count": 286,
   "metadata": {},
   "outputs": [],
   "source": [
    "def parse_data(lst):\n",
    "    # temp_df = pd.DataFrame(columns=['ID', 'ASIN', 'Title', 'Group', 'Similar'])\n",
    "    ID, ASIN, Title, Group, Similar = '', '', '', '', ''\n",
    "    for line in lst:\n",
    "        # print(line)\n",
    "        if line.find('Id:') >= 0:\n",
    "            ID = line.split('Id:')[1]\n",
    "        elif line.find('ASIN:') >= 0:\n",
    "            ASIN = line.split('ASIN:')[1]\n",
    "        elif line.find('title:') >= 0:\n",
    "            Title = line.split('title:')[1]\n",
    "        elif line.find('group:') >= 0:\n",
    "            Group = line.split('group:')[1]\n",
    "        elif line.find('similar:') >= 0:\n",
    "            Similar = line.split('similar:')[1]\n",
    "    temp_df = pd.DataFrame([[ID, ASIN, Title, Group, Similar]], columns=['ID', 'ASIN', 'Title', 'Group', 'Similar'])\n",
    "    return temp_df"
   ]
  },
  {
   "cell_type": "code",
   "execution_count": 345,
   "metadata": {},
   "outputs": [],
   "source": [
    "for data in meta_data:\n",
    "    df_ = parse_data(data)\n",
    "    df = pd.concat([df, df_], ignore_index=True)"
   ]
  },
  {
   "cell_type": "code",
   "execution_count": 346,
   "metadata": {},
   "outputs": [
    {
     "data": {
      "text/html": [
       "<div>\n",
       "<style scoped>\n",
       "    .dataframe tbody tr th:only-of-type {\n",
       "        vertical-align: middle;\n",
       "    }\n",
       "\n",
       "    .dataframe tbody tr th {\n",
       "        vertical-align: top;\n",
       "    }\n",
       "\n",
       "    .dataframe thead th {\n",
       "        text-align: right;\n",
       "    }\n",
       "</style>\n",
       "<table border=\"1\" class=\"dataframe\">\n",
       "  <thead>\n",
       "    <tr style=\"text-align: right;\">\n",
       "      <th></th>\n",
       "      <th>ID</th>\n",
       "      <th>ASIN</th>\n",
       "      <th>Title</th>\n",
       "      <th>Group</th>\n",
       "      <th>Similar</th>\n",
       "    </tr>\n",
       "  </thead>\n",
       "  <tbody>\n",
       "    <tr>\n",
       "      <th>0</th>\n",
       "      <td>0</td>\n",
       "      <td>0771044445</td>\n",
       "      <td></td>\n",
       "      <td></td>\n",
       "      <td></td>\n",
       "    </tr>\n",
       "    <tr>\n",
       "      <th>1</th>\n",
       "      <td>1</td>\n",
       "      <td>0827229534</td>\n",
       "      <td>Patterns of Preaching: A Sermon Sampler</td>\n",
       "      <td>Book</td>\n",
       "      <td>5  0804215715  156101074X  0687023955  068707...</td>\n",
       "    </tr>\n",
       "    <tr>\n",
       "      <th>2</th>\n",
       "      <td>2</td>\n",
       "      <td>0738700797</td>\n",
       "      <td>Candlemas: Feast of Flames</td>\n",
       "      <td>Book</td>\n",
       "      <td>5  0738700827  1567184960  1567182836  073870...</td>\n",
       "    </tr>\n",
       "    <tr>\n",
       "      <th>3</th>\n",
       "      <td>3</td>\n",
       "      <td>0486287785</td>\n",
       "      <td>World War II Allied Fighter Planes Trading Cards</td>\n",
       "      <td>Book</td>\n",
       "      <td>0</td>\n",
       "    </tr>\n",
       "    <tr>\n",
       "      <th>4</th>\n",
       "      <td>4</td>\n",
       "      <td>0842328327</td>\n",
       "      <td>Life Application Bible Commentary: 1 and 2 Ti...</td>\n",
       "      <td>Book</td>\n",
       "      <td>5  0842328130  0830818138  0842330313  084232...</td>\n",
       "    </tr>\n",
       "  </tbody>\n",
       "</table>\n",
       "</div>"
      ],
      "text/plain": [
       "     ID         ASIN                                              Title  \\\n",
       "0     0   0771044445                                                      \n",
       "1     1   0827229534            Patterns of Preaching: A Sermon Sampler   \n",
       "2     2   0738700797                         Candlemas: Feast of Flames   \n",
       "3     3   0486287785   World War II Allied Fighter Planes Trading Cards   \n",
       "4     4   0842328327   Life Application Bible Commentary: 1 and 2 Ti...   \n",
       "\n",
       "   Group                                            Similar  \n",
       "0                                                            \n",
       "1   Book   5  0804215715  156101074X  0687023955  068707...  \n",
       "2   Book   5  0738700827  1567184960  1567182836  073870...  \n",
       "3   Book                                                  0  \n",
       "4   Book   5  0842328130  0830818138  0842330313  084232...  "
      ]
     },
     "execution_count": 346,
     "metadata": {},
     "output_type": "execute_result"
    }
   ],
   "source": [
    "df.head()"
   ]
  },
  {
   "cell_type": "code",
   "execution_count": 349,
   "metadata": {},
   "outputs": [],
   "source": [
    "df.to_csv('amazon_metadata.csv', index=0)"
   ]
  },
  {
   "cell_type": "code",
   "execution_count": 387,
   "metadata": {},
   "outputs": [],
   "source": [
    "def split_sim(txt):\n",
    "    return txt.split(\" \")"
   ]
  },
  {
   "cell_type": "code",
   "execution_count": 469,
   "metadata": {},
   "outputs": [],
   "source": [
    "df_ = df.copy()"
   ]
  },
  {
   "cell_type": "code",
   "execution_count": 470,
   "metadata": {},
   "outputs": [],
   "source": [
    "df_.Similar = df_.Similar.astype('string')"
   ]
  },
  {
   "cell_type": "code",
   "execution_count": 472,
   "metadata": {},
   "outputs": [],
   "source": [
    "df_.Similar = df_.Similar.apply(lambda x : re.split(r'\\D+ ', x)[1:])"
   ]
  },
  {
   "cell_type": "code",
   "execution_count": 473,
   "metadata": {},
   "outputs": [],
   "source": [
    "df_ = df_.explode('Similar', ignore_index=True)"
   ]
  },
  {
   "cell_type": "code",
   "execution_count": 476,
   "metadata": {},
   "outputs": [
    {
     "data": {
      "text/html": [
       "<div>\n",
       "<style scoped>\n",
       "    .dataframe tbody tr th:only-of-type {\n",
       "        vertical-align: middle;\n",
       "    }\n",
       "\n",
       "    .dataframe tbody tr th {\n",
       "        vertical-align: top;\n",
       "    }\n",
       "\n",
       "    .dataframe thead th {\n",
       "        text-align: right;\n",
       "    }\n",
       "</style>\n",
       "<table border=\"1\" class=\"dataframe\">\n",
       "  <thead>\n",
       "    <tr style=\"text-align: right;\">\n",
       "      <th></th>\n",
       "      <th>ID</th>\n",
       "      <th>ASIN</th>\n",
       "      <th>Title</th>\n",
       "      <th>Group</th>\n",
       "      <th>Similar</th>\n",
       "    </tr>\n",
       "  </thead>\n",
       "  <tbody>\n",
       "    <tr>\n",
       "      <th>0</th>\n",
       "      <td>0</td>\n",
       "      <td>0771044445</td>\n",
       "      <td></td>\n",
       "      <td></td>\n",
       "      <td>NaN</td>\n",
       "    </tr>\n",
       "    <tr>\n",
       "      <th>1</th>\n",
       "      <td>1</td>\n",
       "      <td>0827229534</td>\n",
       "      <td>Patterns of Preaching: A Sermon Sampler</td>\n",
       "      <td>Book</td>\n",
       "      <td>0804215715</td>\n",
       "    </tr>\n",
       "    <tr>\n",
       "      <th>2</th>\n",
       "      <td>1</td>\n",
       "      <td>0827229534</td>\n",
       "      <td>Patterns of Preaching: A Sermon Sampler</td>\n",
       "      <td>Book</td>\n",
       "      <td>156101074</td>\n",
       "    </tr>\n",
       "    <tr>\n",
       "      <th>3</th>\n",
       "      <td>1</td>\n",
       "      <td>0827229534</td>\n",
       "      <td>Patterns of Preaching: A Sermon Sampler</td>\n",
       "      <td>Book</td>\n",
       "      <td>0687023955</td>\n",
       "    </tr>\n",
       "    <tr>\n",
       "      <th>4</th>\n",
       "      <td>1</td>\n",
       "      <td>0827229534</td>\n",
       "      <td>Patterns of Preaching: A Sermon Sampler</td>\n",
       "      <td>Book</td>\n",
       "      <td>0687074231</td>\n",
       "    </tr>\n",
       "    <tr>\n",
       "      <th>5</th>\n",
       "      <td>1</td>\n",
       "      <td>0827229534</td>\n",
       "      <td>Patterns of Preaching: A Sermon Sampler</td>\n",
       "      <td>Book</td>\n",
       "      <td>082721619X</td>\n",
       "    </tr>\n",
       "    <tr>\n",
       "      <th>6</th>\n",
       "      <td>2</td>\n",
       "      <td>0738700797</td>\n",
       "      <td>Candlemas: Feast of Flames</td>\n",
       "      <td>Book</td>\n",
       "      <td>0738700827</td>\n",
       "    </tr>\n",
       "    <tr>\n",
       "      <th>7</th>\n",
       "      <td>2</td>\n",
       "      <td>0738700797</td>\n",
       "      <td>Candlemas: Feast of Flames</td>\n",
       "      <td>Book</td>\n",
       "      <td>1567184960</td>\n",
       "    </tr>\n",
       "    <tr>\n",
       "      <th>8</th>\n",
       "      <td>2</td>\n",
       "      <td>0738700797</td>\n",
       "      <td>Candlemas: Feast of Flames</td>\n",
       "      <td>Book</td>\n",
       "      <td>1567182836</td>\n",
       "    </tr>\n",
       "    <tr>\n",
       "      <th>9</th>\n",
       "      <td>2</td>\n",
       "      <td>0738700797</td>\n",
       "      <td>Candlemas: Feast of Flames</td>\n",
       "      <td>Book</td>\n",
       "      <td>0738700525</td>\n",
       "    </tr>\n",
       "    <tr>\n",
       "      <th>10</th>\n",
       "      <td>2</td>\n",
       "      <td>0738700797</td>\n",
       "      <td>Candlemas: Feast of Flames</td>\n",
       "      <td>Book</td>\n",
       "      <td>0738700940</td>\n",
       "    </tr>\n",
       "    <tr>\n",
       "      <th>11</th>\n",
       "      <td>3</td>\n",
       "      <td>0486287785</td>\n",
       "      <td>World War II Allied Fighter Planes Trading Cards</td>\n",
       "      <td>Book</td>\n",
       "      <td>NaN</td>\n",
       "    </tr>\n",
       "    <tr>\n",
       "      <th>12</th>\n",
       "      <td>4</td>\n",
       "      <td>0842328327</td>\n",
       "      <td>Life Application Bible Commentary: 1 and 2 Ti...</td>\n",
       "      <td>Book</td>\n",
       "      <td>0842328130</td>\n",
       "    </tr>\n",
       "    <tr>\n",
       "      <th>13</th>\n",
       "      <td>4</td>\n",
       "      <td>0842328327</td>\n",
       "      <td>Life Application Bible Commentary: 1 and 2 Ti...</td>\n",
       "      <td>Book</td>\n",
       "      <td>0830818138</td>\n",
       "    </tr>\n",
       "    <tr>\n",
       "      <th>14</th>\n",
       "      <td>4</td>\n",
       "      <td>0842328327</td>\n",
       "      <td>Life Application Bible Commentary: 1 and 2 Ti...</td>\n",
       "      <td>Book</td>\n",
       "      <td>0842330313</td>\n",
       "    </tr>\n",
       "    <tr>\n",
       "      <th>15</th>\n",
       "      <td>4</td>\n",
       "      <td>0842328327</td>\n",
       "      <td>Life Application Bible Commentary: 1 and 2 Ti...</td>\n",
       "      <td>Book</td>\n",
       "      <td>0842328610</td>\n",
       "    </tr>\n",
       "    <tr>\n",
       "      <th>16</th>\n",
       "      <td>4</td>\n",
       "      <td>0842328327</td>\n",
       "      <td>Life Application Bible Commentary: 1 and 2 Ti...</td>\n",
       "      <td>Book</td>\n",
       "      <td>0842328572</td>\n",
       "    </tr>\n",
       "    <tr>\n",
       "      <th>17</th>\n",
       "      <td>5</td>\n",
       "      <td>1577943082</td>\n",
       "      <td>Prayers That Avail Much for Business: Executive</td>\n",
       "      <td>Book</td>\n",
       "      <td>157794349</td>\n",
       "    </tr>\n",
       "    <tr>\n",
       "      <th>18</th>\n",
       "      <td>5</td>\n",
       "      <td>1577943082</td>\n",
       "      <td>Prayers That Avail Much for Business: Executive</td>\n",
       "      <td>Book</td>\n",
       "      <td>0892749504</td>\n",
       "    </tr>\n",
       "    <tr>\n",
       "      <th>19</th>\n",
       "      <td>5</td>\n",
       "      <td>1577943082</td>\n",
       "      <td>Prayers That Avail Much for Business: Executive</td>\n",
       "      <td>Book</td>\n",
       "      <td>1577941829</td>\n",
       "    </tr>\n",
       "  </tbody>\n",
       "</table>\n",
       "</div>"
      ],
      "text/plain": [
       "      ID         ASIN                                              Title  \\\n",
       "0      0   0771044445                                                      \n",
       "1      1   0827229534            Patterns of Preaching: A Sermon Sampler   \n",
       "2      1   0827229534            Patterns of Preaching: A Sermon Sampler   \n",
       "3      1   0827229534            Patterns of Preaching: A Sermon Sampler   \n",
       "4      1   0827229534            Patterns of Preaching: A Sermon Sampler   \n",
       "5      1   0827229534            Patterns of Preaching: A Sermon Sampler   \n",
       "6      2   0738700797                         Candlemas: Feast of Flames   \n",
       "7      2   0738700797                         Candlemas: Feast of Flames   \n",
       "8      2   0738700797                         Candlemas: Feast of Flames   \n",
       "9      2   0738700797                         Candlemas: Feast of Flames   \n",
       "10     2   0738700797                         Candlemas: Feast of Flames   \n",
       "11     3   0486287785   World War II Allied Fighter Planes Trading Cards   \n",
       "12     4   0842328327   Life Application Bible Commentary: 1 and 2 Ti...   \n",
       "13     4   0842328327   Life Application Bible Commentary: 1 and 2 Ti...   \n",
       "14     4   0842328327   Life Application Bible Commentary: 1 and 2 Ti...   \n",
       "15     4   0842328327   Life Application Bible Commentary: 1 and 2 Ti...   \n",
       "16     4   0842328327   Life Application Bible Commentary: 1 and 2 Ti...   \n",
       "17     5   1577943082    Prayers That Avail Much for Business: Executive   \n",
       "18     5   1577943082    Prayers That Avail Much for Business: Executive   \n",
       "19     5   1577943082    Prayers That Avail Much for Business: Executive   \n",
       "\n",
       "    Group     Similar  \n",
       "0                 NaN  \n",
       "1    Book  0804215715  \n",
       "2    Book   156101074  \n",
       "3    Book  0687023955  \n",
       "4    Book  0687074231  \n",
       "5    Book  082721619X  \n",
       "6    Book  0738700827  \n",
       "7    Book  1567184960  \n",
       "8    Book  1567182836  \n",
       "9    Book  0738700525  \n",
       "10   Book  0738700940  \n",
       "11   Book         NaN  \n",
       "12   Book  0842328130  \n",
       "13   Book  0830818138  \n",
       "14   Book  0842330313  \n",
       "15   Book  0842328610  \n",
       "16   Book  0842328572  \n",
       "17   Book   157794349  \n",
       "18   Book  0892749504  \n",
       "19   Book  1577941829  "
      ]
     },
     "execution_count": 476,
     "metadata": {},
     "output_type": "execute_result"
    }
   ],
   "source": [
    "df_.head(20)"
   ]
  },
  {
   "cell_type": "code",
   "execution_count": 483,
   "metadata": {},
   "outputs": [],
   "source": [
    "df_ = df_.dropna()"
   ]
  },
  {
   "cell_type": "code",
   "execution_count": 450,
   "metadata": {},
   "outputs": [],
   "source": [
    "# df_.Similar = df_.Similar.fillna('')"
   ]
  },
  {
   "cell_type": "code",
   "execution_count": 479,
   "metadata": {},
   "outputs": [],
   "source": [
    "df_ = df_[~df_.duplicated()]"
   ]
  },
  {
   "cell_type": "code",
   "execution_count": null,
   "metadata": {},
   "outputs": [],
   "source": [
    "df_.head()"
   ]
  },
  {
   "cell_type": "code",
   "execution_count": 461,
   "metadata": {},
   "outputs": [],
   "source": [
    "df_.to_csv('amazon_metadata_.csv', index=0)"
   ]
  },
  {
   "cell_type": "code",
   "execution_count": 485,
   "metadata": {},
   "outputs": [],
   "source": [
    "edge_data = df_[['ASIN', 'Similar']]"
   ]
  },
  {
   "cell_type": "code",
   "execution_count": 488,
   "metadata": {},
   "outputs": [],
   "source": [
    "edge_data.to_csv('amazon_edge_list.csv', index=0)"
   ]
  },
  {
   "cell_type": "code",
   "execution_count": 491,
   "metadata": {},
   "outputs": [
    {
     "data": {
      "text/html": [
       "<div>\n",
       "<style scoped>\n",
       "    .dataframe tbody tr th:only-of-type {\n",
       "        vertical-align: middle;\n",
       "    }\n",
       "\n",
       "    .dataframe tbody tr th {\n",
       "        vertical-align: top;\n",
       "    }\n",
       "\n",
       "    .dataframe thead th {\n",
       "        text-align: right;\n",
       "    }\n",
       "</style>\n",
       "<table border=\"1\" class=\"dataframe\">\n",
       "  <thead>\n",
       "    <tr style=\"text-align: right;\">\n",
       "      <th></th>\n",
       "      <th>source</th>\n",
       "      <th>target</th>\n",
       "    </tr>\n",
       "  </thead>\n",
       "  <tbody>\n",
       "    <tr>\n",
       "      <th>1</th>\n",
       "      <td>0827229534</td>\n",
       "      <td>0804215715</td>\n",
       "    </tr>\n",
       "    <tr>\n",
       "      <th>2</th>\n",
       "      <td>0827229534</td>\n",
       "      <td>156101074</td>\n",
       "    </tr>\n",
       "    <tr>\n",
       "      <th>3</th>\n",
       "      <td>0827229534</td>\n",
       "      <td>0687023955</td>\n",
       "    </tr>\n",
       "    <tr>\n",
       "      <th>4</th>\n",
       "      <td>0827229534</td>\n",
       "      <td>0687074231</td>\n",
       "    </tr>\n",
       "    <tr>\n",
       "      <th>5</th>\n",
       "      <td>0827229534</td>\n",
       "      <td>082721619X</td>\n",
       "    </tr>\n",
       "  </tbody>\n",
       "</table>\n",
       "</div>"
      ],
      "text/plain": [
       "        source      target\n",
       "1   0827229534  0804215715\n",
       "2   0827229534   156101074\n",
       "3   0827229534  0687023955\n",
       "4   0827229534  0687074231\n",
       "5   0827229534  082721619X"
      ]
     },
     "execution_count": 491,
     "metadata": {},
     "output_type": "execute_result"
    }
   ],
   "source": [
    "edge_data = edge_data.rename(columns={'ASIN':'source', 'Similar':'target'})\n",
    "edge_data.head()"
   ]
  },
  {
   "cell_type": "code",
   "execution_count": 493,
   "metadata": {},
   "outputs": [
    {
     "data": {
      "text/html": [
       "<div>\n",
       "<style scoped>\n",
       "    .dataframe tbody tr th:only-of-type {\n",
       "        vertical-align: middle;\n",
       "    }\n",
       "\n",
       "    .dataframe tbody tr th {\n",
       "        vertical-align: top;\n",
       "    }\n",
       "\n",
       "    .dataframe thead th {\n",
       "        text-align: right;\n",
       "    }\n",
       "</style>\n",
       "<table border=\"1\" class=\"dataframe\">\n",
       "  <thead>\n",
       "    <tr style=\"text-align: right;\">\n",
       "      <th></th>\n",
       "      <th>source</th>\n",
       "      <th>target</th>\n",
       "      <th>weight</th>\n",
       "    </tr>\n",
       "  </thead>\n",
       "  <tbody>\n",
       "    <tr>\n",
       "      <th>1</th>\n",
       "      <td>0827229534</td>\n",
       "      <td>0804215715</td>\n",
       "      <td>1</td>\n",
       "    </tr>\n",
       "    <tr>\n",
       "      <th>2</th>\n",
       "      <td>0827229534</td>\n",
       "      <td>156101074</td>\n",
       "      <td>1</td>\n",
       "    </tr>\n",
       "    <tr>\n",
       "      <th>3</th>\n",
       "      <td>0827229534</td>\n",
       "      <td>0687023955</td>\n",
       "      <td>1</td>\n",
       "    </tr>\n",
       "    <tr>\n",
       "      <th>4</th>\n",
       "      <td>0827229534</td>\n",
       "      <td>0687074231</td>\n",
       "      <td>1</td>\n",
       "    </tr>\n",
       "    <tr>\n",
       "      <th>5</th>\n",
       "      <td>0827229534</td>\n",
       "      <td>082721619X</td>\n",
       "      <td>1</td>\n",
       "    </tr>\n",
       "  </tbody>\n",
       "</table>\n",
       "</div>"
      ],
      "text/plain": [
       "        source      target  weight\n",
       "1   0827229534  0804215715       1\n",
       "2   0827229534   156101074       1\n",
       "3   0827229534  0687023955       1\n",
       "4   0827229534  0687074231       1\n",
       "5   0827229534  082721619X       1"
      ]
     },
     "execution_count": 493,
     "metadata": {},
     "output_type": "execute_result"
    }
   ],
   "source": [
    "edge_data['weight']=1\n",
    "edge_data.head()"
   ]
  },
  {
   "cell_type": "code",
   "execution_count": 500,
   "metadata": {},
   "outputs": [
    {
     "data": {
      "text/plain": [
       "(1763471, 3)"
      ]
     },
     "execution_count": 500,
     "metadata": {},
     "output_type": "execute_result"
    }
   ],
   "source": [
    "edge_data.shape"
   ]
  },
  {
   "cell_type": "code",
   "execution_count": 501,
   "metadata": {},
   "outputs": [],
   "source": [
    "edge_data = edge_data.groupby(['source', 'target']).aggregate({'weight':'count'}).reset_index()"
   ]
  },
  {
   "cell_type": "code",
   "execution_count": 502,
   "metadata": {},
   "outputs": [
    {
     "data": {
      "text/plain": [
       "(1763471, 3)"
      ]
     },
     "execution_count": 502,
     "metadata": {},
     "output_type": "execute_result"
    }
   ],
   "source": [
    "edge_data.shape"
   ]
  },
  {
   "cell_type": "markdown",
   "metadata": {},
   "source": [
    "Creating edge and node lists"
   ]
  },
  {
   "cell_type": "code",
   "execution_count": 170,
   "metadata": {},
   "outputs": [
    {
     "name": "stderr",
     "output_type": "stream",
     "text": [
      "C:\\Users\\rsury\\AppData\\Local\\Temp\\ipykernel_12668\\288823035.py:1: DtypeWarning: Columns (0) have mixed types. Specify dtype option on import or set low_memory=False.\n",
      "  df = pd.read_csv('../data/amazon_meta/amazon_metadata_.csv')\n"
     ]
    }
   ],
   "source": [
    "df = pd.read_csv('../data/amazon_meta/amazon_metadata_.csv')"
   ]
  },
  {
   "cell_type": "code",
   "execution_count": 84,
   "metadata": {},
   "outputs": [
    {
     "data": {
      "text/html": [
       "<div>\n",
       "<style scoped>\n",
       "    .dataframe tbody tr th:only-of-type {\n",
       "        vertical-align: middle;\n",
       "    }\n",
       "\n",
       "    .dataframe tbody tr th {\n",
       "        vertical-align: top;\n",
       "    }\n",
       "\n",
       "    .dataframe thead th {\n",
       "        text-align: right;\n",
       "    }\n",
       "</style>\n",
       "<table border=\"1\" class=\"dataframe\">\n",
       "  <thead>\n",
       "    <tr style=\"text-align: right;\">\n",
       "      <th></th>\n",
       "      <th>ID</th>\n",
       "      <th>ASIN</th>\n",
       "      <th>Title</th>\n",
       "      <th>Group</th>\n",
       "      <th>Similar</th>\n",
       "    </tr>\n",
       "  </thead>\n",
       "  <tbody>\n",
       "    <tr>\n",
       "      <th>0</th>\n",
       "      <td>0</td>\n",
       "      <td>0771044445</td>\n",
       "      <td>NaN</td>\n",
       "      <td>NaN</td>\n",
       "      <td>NaN</td>\n",
       "    </tr>\n",
       "    <tr>\n",
       "      <th>1</th>\n",
       "      <td>1</td>\n",
       "      <td>0827229534</td>\n",
       "      <td>Patterns of Preaching: A Sermon Sampler</td>\n",
       "      <td>Book</td>\n",
       "      <td>0804215715</td>\n",
       "    </tr>\n",
       "    <tr>\n",
       "      <th>2</th>\n",
       "      <td>1</td>\n",
       "      <td>0827229534</td>\n",
       "      <td>Patterns of Preaching: A Sermon Sampler</td>\n",
       "      <td>Book</td>\n",
       "      <td>156101074</td>\n",
       "    </tr>\n",
       "    <tr>\n",
       "      <th>3</th>\n",
       "      <td>1</td>\n",
       "      <td>0827229534</td>\n",
       "      <td>Patterns of Preaching: A Sermon Sampler</td>\n",
       "      <td>Book</td>\n",
       "      <td>0687023955</td>\n",
       "    </tr>\n",
       "    <tr>\n",
       "      <th>4</th>\n",
       "      <td>1</td>\n",
       "      <td>0827229534</td>\n",
       "      <td>Patterns of Preaching: A Sermon Sampler</td>\n",
       "      <td>Book</td>\n",
       "      <td>0687074231</td>\n",
       "    </tr>\n",
       "  </tbody>\n",
       "</table>\n",
       "</div>"
      ],
      "text/plain": [
       "  ID         ASIN                                     Title  Group     Similar\n",
       "0  0   0771044445                                       NaN    NaN         NaN\n",
       "1  1   0827229534   Patterns of Preaching: A Sermon Sampler   Book  0804215715\n",
       "2  1   0827229534   Patterns of Preaching: A Sermon Sampler   Book   156101074\n",
       "3  1   0827229534   Patterns of Preaching: A Sermon Sampler   Book  0687023955\n",
       "4  1   0827229534   Patterns of Preaching: A Sermon Sampler   Book  0687074231"
      ]
     },
     "execution_count": 84,
     "metadata": {},
     "output_type": "execute_result"
    }
   ],
   "source": [
    "df.head()"
   ]
  },
  {
   "cell_type": "code",
   "execution_count": 172,
   "metadata": {},
   "outputs": [],
   "source": [
    "df.ASIN = df.ASIN.astype('string')\n",
    "df.Similar = df.Similar.astype('string')"
   ]
  },
  {
   "cell_type": "code",
   "execution_count": 173,
   "metadata": {},
   "outputs": [],
   "source": [
    "df['ASIN'] = df['ASIN'].str.strip()\n",
    "df['Similar'] = df['Similar'].str.strip()"
   ]
  },
  {
   "cell_type": "code",
   "execution_count": 180,
   "metadata": {},
   "outputs": [
    {
     "data": {
      "text/plain": [
       "(1763471, 5)"
      ]
     },
     "execution_count": 180,
     "metadata": {},
     "output_type": "execute_result"
    }
   ],
   "source": [
    "df = df[df['Similar'].notna()]\n",
    "df.shape"
   ]
  },
  {
   "cell_type": "code",
   "execution_count": 201,
   "metadata": {},
   "outputs": [
    {
     "data": {
      "text/plain": [
       "(843277, 5)"
      ]
     },
     "execution_count": 201,
     "metadata": {},
     "output_type": "execute_result"
    }
   ],
   "source": [
    "df = df[df.ASIN.isin(df.Similar)]\n",
    "df.shape"
   ]
  },
  {
   "cell_type": "code",
   "execution_count": 222,
   "metadata": {},
   "outputs": [
    {
     "data": {
      "text/plain": [
       "(553008, 5)"
      ]
     },
     "execution_count": 222,
     "metadata": {},
     "output_type": "execute_result"
    }
   ],
   "source": [
    "df = df[df.Similar.isin(df.ASIN)]\n",
    "df.shape"
   ]
  },
  {
   "cell_type": "code",
   "execution_count": 223,
   "metadata": {},
   "outputs": [],
   "source": [
    "df = df.drop('ID', axis=1)"
   ]
  },
  {
   "cell_type": "code",
   "execution_count": 224,
   "metadata": {},
   "outputs": [
    {
     "data": {
      "text/html": [
       "<div>\n",
       "<style scoped>\n",
       "    .dataframe tbody tr th:only-of-type {\n",
       "        vertical-align: middle;\n",
       "    }\n",
       "\n",
       "    .dataframe tbody tr th {\n",
       "        vertical-align: top;\n",
       "    }\n",
       "\n",
       "    .dataframe thead th {\n",
       "        text-align: right;\n",
       "    }\n",
       "</style>\n",
       "<table border=\"1\" class=\"dataframe\">\n",
       "  <thead>\n",
       "    <tr style=\"text-align: right;\">\n",
       "      <th></th>\n",
       "      <th>ASIN</th>\n",
       "      <th>Title</th>\n",
       "      <th>Group</th>\n",
       "      <th>Similar</th>\n",
       "    </tr>\n",
       "  </thead>\n",
       "  <tbody>\n",
       "    <tr>\n",
       "      <th>1</th>\n",
       "      <td>0827229534</td>\n",
       "      <td>Patterns of Preaching: A Sermon Sampler</td>\n",
       "      <td>Book</td>\n",
       "      <td>0804215715</td>\n",
       "    </tr>\n",
       "    <tr>\n",
       "      <th>3</th>\n",
       "      <td>0827229534</td>\n",
       "      <td>Patterns of Preaching: A Sermon Sampler</td>\n",
       "      <td>Book</td>\n",
       "      <td>0687023955</td>\n",
       "    </tr>\n",
       "    <tr>\n",
       "      <th>4</th>\n",
       "      <td>0827229534</td>\n",
       "      <td>Patterns of Preaching: A Sermon Sampler</td>\n",
       "      <td>Book</td>\n",
       "      <td>0687074231</td>\n",
       "    </tr>\n",
       "    <tr>\n",
       "      <th>5</th>\n",
       "      <td>0827229534</td>\n",
       "      <td>Patterns of Preaching: A Sermon Sampler</td>\n",
       "      <td>Book</td>\n",
       "      <td>082721619X</td>\n",
       "    </tr>\n",
       "    <tr>\n",
       "      <th>6</th>\n",
       "      <td>0738700797</td>\n",
       "      <td>Candlemas: Feast of Flames</td>\n",
       "      <td>Book</td>\n",
       "      <td>0738700827</td>\n",
       "    </tr>\n",
       "  </tbody>\n",
       "</table>\n",
       "</div>"
      ],
      "text/plain": [
       "         ASIN                                     Title  Group     Similar\n",
       "1  0827229534   Patterns of Preaching: A Sermon Sampler   Book  0804215715\n",
       "3  0827229534   Patterns of Preaching: A Sermon Sampler   Book  0687023955\n",
       "4  0827229534   Patterns of Preaching: A Sermon Sampler   Book  0687074231\n",
       "5  0827229534   Patterns of Preaching: A Sermon Sampler   Book  082721619X\n",
       "6  0738700797                Candlemas: Feast of Flames   Book  0738700827"
      ]
     },
     "execution_count": 224,
     "metadata": {},
     "output_type": "execute_result"
    }
   ],
   "source": [
    "df.head()"
   ]
  },
  {
   "cell_type": "code",
   "execution_count": 227,
   "metadata": {},
   "outputs": [
    {
     "data": {
      "text/html": [
       "<div>\n",
       "<style scoped>\n",
       "    .dataframe tbody tr th:only-of-type {\n",
       "        vertical-align: middle;\n",
       "    }\n",
       "\n",
       "    .dataframe tbody tr th {\n",
       "        vertical-align: top;\n",
       "    }\n",
       "\n",
       "    .dataframe thead th {\n",
       "        text-align: right;\n",
       "    }\n",
       "</style>\n",
       "<table border=\"1\" class=\"dataframe\">\n",
       "  <thead>\n",
       "    <tr style=\"text-align: right;\">\n",
       "      <th></th>\n",
       "      <th>source</th>\n",
       "      <th>Title</th>\n",
       "      <th>Group</th>\n",
       "      <th>target</th>\n",
       "    </tr>\n",
       "  </thead>\n",
       "  <tbody>\n",
       "    <tr>\n",
       "      <th>1</th>\n",
       "      <td>0827229534</td>\n",
       "      <td>Patterns of Preaching: A Sermon Sampler</td>\n",
       "      <td>Book</td>\n",
       "      <td>0804215715</td>\n",
       "    </tr>\n",
       "    <tr>\n",
       "      <th>3</th>\n",
       "      <td>0827229534</td>\n",
       "      <td>Patterns of Preaching: A Sermon Sampler</td>\n",
       "      <td>Book</td>\n",
       "      <td>0687023955</td>\n",
       "    </tr>\n",
       "    <tr>\n",
       "      <th>4</th>\n",
       "      <td>0827229534</td>\n",
       "      <td>Patterns of Preaching: A Sermon Sampler</td>\n",
       "      <td>Book</td>\n",
       "      <td>0687074231</td>\n",
       "    </tr>\n",
       "    <tr>\n",
       "      <th>5</th>\n",
       "      <td>0827229534</td>\n",
       "      <td>Patterns of Preaching: A Sermon Sampler</td>\n",
       "      <td>Book</td>\n",
       "      <td>082721619X</td>\n",
       "    </tr>\n",
       "    <tr>\n",
       "      <th>6</th>\n",
       "      <td>0738700797</td>\n",
       "      <td>Candlemas: Feast of Flames</td>\n",
       "      <td>Book</td>\n",
       "      <td>0738700827</td>\n",
       "    </tr>\n",
       "  </tbody>\n",
       "</table>\n",
       "</div>"
      ],
      "text/plain": [
       "       source                                     Title  Group      target\n",
       "1  0827229534   Patterns of Preaching: A Sermon Sampler   Book  0804215715\n",
       "3  0827229534   Patterns of Preaching: A Sermon Sampler   Book  0687023955\n",
       "4  0827229534   Patterns of Preaching: A Sermon Sampler   Book  0687074231\n",
       "5  0827229534   Patterns of Preaching: A Sermon Sampler   Book  082721619X\n",
       "6  0738700797                Candlemas: Feast of Flames   Book  0738700827"
      ]
     },
     "execution_count": 227,
     "metadata": {},
     "output_type": "execute_result"
    }
   ],
   "source": [
    "df = df.rename(columns={'ASIN':'source', 'Similar':'target'})\n",
    "df.head()"
   ]
  },
  {
   "cell_type": "code",
   "execution_count": 228,
   "metadata": {},
   "outputs": [
    {
     "data": {
      "text/plain": [
       "(553008, 4)"
      ]
     },
     "execution_count": 228,
     "metadata": {},
     "output_type": "execute_result"
    }
   ],
   "source": [
    "df.shape"
   ]
  },
  {
   "cell_type": "code",
   "execution_count": 229,
   "metadata": {},
   "outputs": [],
   "source": [
    "df.to_csv('../data/amazon_meta/edge_list_full.csv', index=None)"
   ]
  },
  {
   "cell_type": "code",
   "execution_count": 232,
   "metadata": {},
   "outputs": [
    {
     "data": {
      "text/plain": [
       "171611"
      ]
     },
     "execution_count": 232,
     "metadata": {},
     "output_type": "execute_result"
    }
   ],
   "source": [
    "df.target.nunique()"
   ]
  },
  {
   "cell_type": "code",
   "execution_count": 235,
   "metadata": {},
   "outputs": [
    {
     "data": {
      "text/html": [
       "<div>\n",
       "<style scoped>\n",
       "    .dataframe tbody tr th:only-of-type {\n",
       "        vertical-align: middle;\n",
       "    }\n",
       "\n",
       "    .dataframe tbody tr th {\n",
       "        vertical-align: top;\n",
       "    }\n",
       "\n",
       "    .dataframe thead th {\n",
       "        text-align: right;\n",
       "    }\n",
       "</style>\n",
       "<table border=\"1\" class=\"dataframe\">\n",
       "  <thead>\n",
       "    <tr style=\"text-align: right;\">\n",
       "      <th></th>\n",
       "      <th>source</th>\n",
       "      <th>Title</th>\n",
       "      <th>Group</th>\n",
       "    </tr>\n",
       "  </thead>\n",
       "  <tbody>\n",
       "    <tr>\n",
       "      <th>1</th>\n",
       "      <td>0827229534</td>\n",
       "      <td>Patterns of Preaching: A Sermon Sampler</td>\n",
       "      <td>Book</td>\n",
       "    </tr>\n",
       "    <tr>\n",
       "      <th>3</th>\n",
       "      <td>0827229534</td>\n",
       "      <td>Patterns of Preaching: A Sermon Sampler</td>\n",
       "      <td>Book</td>\n",
       "    </tr>\n",
       "    <tr>\n",
       "      <th>4</th>\n",
       "      <td>0827229534</td>\n",
       "      <td>Patterns of Preaching: A Sermon Sampler</td>\n",
       "      <td>Book</td>\n",
       "    </tr>\n",
       "    <tr>\n",
       "      <th>5</th>\n",
       "      <td>0827229534</td>\n",
       "      <td>Patterns of Preaching: A Sermon Sampler</td>\n",
       "      <td>Book</td>\n",
       "    </tr>\n",
       "    <tr>\n",
       "      <th>6</th>\n",
       "      <td>0738700797</td>\n",
       "      <td>Candlemas: Feast of Flames</td>\n",
       "      <td>Book</td>\n",
       "    </tr>\n",
       "  </tbody>\n",
       "</table>\n",
       "</div>"
      ],
      "text/plain": [
       "       source                                     Title  Group\n",
       "1  0827229534   Patterns of Preaching: A Sermon Sampler   Book\n",
       "3  0827229534   Patterns of Preaching: A Sermon Sampler   Book\n",
       "4  0827229534   Patterns of Preaching: A Sermon Sampler   Book\n",
       "5  0827229534   Patterns of Preaching: A Sermon Sampler   Book\n",
       "6  0738700797                Candlemas: Feast of Flames   Book"
      ]
     },
     "execution_count": 235,
     "metadata": {},
     "output_type": "execute_result"
    }
   ],
   "source": [
    "df_node = df[['source', 'Title', 'Group']]\n",
    "df_node.head()"
   ]
  },
  {
   "cell_type": "code",
   "execution_count": 241,
   "metadata": {},
   "outputs": [
    {
     "data": {
      "text/plain": [
       "(171611, 3)"
      ]
     },
     "execution_count": 241,
     "metadata": {},
     "output_type": "execute_result"
    }
   ],
   "source": [
    "df_node.shape"
   ]
  },
  {
   "cell_type": "code",
   "execution_count": 242,
   "metadata": {},
   "outputs": [
    {
     "data": {
      "text/plain": [
       "(171611, 3)"
      ]
     },
     "execution_count": 242,
     "metadata": {},
     "output_type": "execute_result"
    }
   ],
   "source": [
    "df_node = df_node.drop_duplicates()\n",
    "df_node.shape"
   ]
  },
  {
   "cell_type": "code",
   "execution_count": 245,
   "metadata": {},
   "outputs": [],
   "source": [
    "df_node.to_csv('../data/amazon_meta/node_list_full.csv', index=None, header=['ID', 'label', 'group'])\n"
   ]
  },
  {
   "cell_type": "code",
   "execution_count": 248,
   "metadata": {},
   "outputs": [],
   "source": [
    "df_node = df_node.reset_index()"
   ]
  },
  {
   "cell_type": "code",
   "execution_count": 251,
   "metadata": {},
   "outputs": [],
   "source": [
    "df_node = df_node.drop('index', axis=1)"
   ]
  },
  {
   "cell_type": "code",
   "execution_count": 252,
   "metadata": {},
   "outputs": [
    {
     "data": {
      "text/html": [
       "<div>\n",
       "<style scoped>\n",
       "    .dataframe tbody tr th:only-of-type {\n",
       "        vertical-align: middle;\n",
       "    }\n",
       "\n",
       "    .dataframe tbody tr th {\n",
       "        vertical-align: top;\n",
       "    }\n",
       "\n",
       "    .dataframe thead th {\n",
       "        text-align: right;\n",
       "    }\n",
       "</style>\n",
       "<table border=\"1\" class=\"dataframe\">\n",
       "  <thead>\n",
       "    <tr style=\"text-align: right;\">\n",
       "      <th></th>\n",
       "      <th>source</th>\n",
       "      <th>Title</th>\n",
       "      <th>Group</th>\n",
       "    </tr>\n",
       "  </thead>\n",
       "  <tbody>\n",
       "    <tr>\n",
       "      <th>0</th>\n",
       "      <td>0827229534</td>\n",
       "      <td>Patterns of Preaching: A Sermon Sampler</td>\n",
       "      <td>Book</td>\n",
       "    </tr>\n",
       "    <tr>\n",
       "      <th>1</th>\n",
       "      <td>0738700797</td>\n",
       "      <td>Candlemas: Feast of Flames</td>\n",
       "      <td>Book</td>\n",
       "    </tr>\n",
       "    <tr>\n",
       "      <th>2</th>\n",
       "      <td>0842328327</td>\n",
       "      <td>Life Application Bible Commentary: 1 and 2 Ti...</td>\n",
       "      <td>Book</td>\n",
       "    </tr>\n",
       "    <tr>\n",
       "      <th>3</th>\n",
       "      <td>1577943082</td>\n",
       "      <td>Prayers That Avail Much for Business: Executive</td>\n",
       "      <td>Book</td>\n",
       "    </tr>\n",
       "    <tr>\n",
       "      <th>4</th>\n",
       "      <td>B00000AU3R</td>\n",
       "      <td>Batik</td>\n",
       "      <td>Music</td>\n",
       "    </tr>\n",
       "  </tbody>\n",
       "</table>\n",
       "</div>"
      ],
      "text/plain": [
       "       source                                              Title   Group\n",
       "0  0827229534            Patterns of Preaching: A Sermon Sampler    Book\n",
       "1  0738700797                         Candlemas: Feast of Flames    Book\n",
       "2  0842328327   Life Application Bible Commentary: 1 and 2 Ti...    Book\n",
       "3  1577943082    Prayers That Avail Much for Business: Executive    Book\n",
       "4  B00000AU3R                                              Batik   Music"
      ]
     },
     "execution_count": 252,
     "metadata": {},
     "output_type": "execute_result"
    }
   ],
   "source": [
    "df_node.head()"
   ]
  },
  {
   "cell_type": "code",
   "execution_count": 278,
   "metadata": {},
   "outputs": [],
   "source": [
    "df_idx = df.copy()"
   ]
  },
  {
   "cell_type": "code",
   "execution_count": 280,
   "metadata": {},
   "outputs": [],
   "source": [
    "df_idx['ID1'] = 0\n",
    "df_idx['ID2'] = 0"
   ]
  },
  {
   "cell_type": "code",
   "execution_count": 299,
   "metadata": {},
   "outputs": [
    {
     "data": {
      "text/plain": [
       "(171611, 4)"
      ]
     },
     "execution_count": 299,
     "metadata": {},
     "output_type": "execute_result"
    }
   ],
   "source": [
    "df_node.shape"
   ]
  },
  {
   "cell_type": "code",
   "execution_count": 311,
   "metadata": {},
   "outputs": [],
   "source": [
    "df_node = df_node.rename(columns={'index':'idx'})"
   ]
  },
  {
   "cell_type": "code",
   "execution_count": 350,
   "metadata": {},
   "outputs": [],
   "source": [
    "df_node = df_node.reset_index()"
   ]
  },
  {
   "cell_type": "code",
   "execution_count": 393,
   "metadata": {},
   "outputs": [
    {
     "data": {
      "text/html": [
       "<div>\n",
       "<style scoped>\n",
       "    .dataframe tbody tr th:only-of-type {\n",
       "        vertical-align: middle;\n",
       "    }\n",
       "\n",
       "    .dataframe tbody tr th {\n",
       "        vertical-align: top;\n",
       "    }\n",
       "\n",
       "    .dataframe thead th {\n",
       "        text-align: right;\n",
       "    }\n",
       "</style>\n",
       "<table border=\"1\" class=\"dataframe\">\n",
       "  <thead>\n",
       "    <tr style=\"text-align: right;\">\n",
       "      <th></th>\n",
       "      <th>source</th>\n",
       "      <th>Title</th>\n",
       "      <th>Group</th>\n",
       "      <th>source_id</th>\n",
       "    </tr>\n",
       "  </thead>\n",
       "  <tbody>\n",
       "    <tr>\n",
       "      <th>0</th>\n",
       "      <td>0827229534</td>\n",
       "      <td>Patterns of Preaching: A Sermon Sampler</td>\n",
       "      <td>Book</td>\n",
       "      <td>1</td>\n",
       "    </tr>\n",
       "    <tr>\n",
       "      <th>1</th>\n",
       "      <td>0738700797</td>\n",
       "      <td>Candlemas: Feast of Flames</td>\n",
       "      <td>Book</td>\n",
       "      <td>2</td>\n",
       "    </tr>\n",
       "    <tr>\n",
       "      <th>2</th>\n",
       "      <td>0842328327</td>\n",
       "      <td>Life Application Bible Commentary: 1 and 2 Ti...</td>\n",
       "      <td>Book</td>\n",
       "      <td>3</td>\n",
       "    </tr>\n",
       "    <tr>\n",
       "      <th>3</th>\n",
       "      <td>1577943082</td>\n",
       "      <td>Prayers That Avail Much for Business: Executive</td>\n",
       "      <td>Book</td>\n",
       "      <td>4</td>\n",
       "    </tr>\n",
       "    <tr>\n",
       "      <th>4</th>\n",
       "      <td>B00000AU3R</td>\n",
       "      <td>Batik</td>\n",
       "      <td>Music</td>\n",
       "      <td>5</td>\n",
       "    </tr>\n",
       "  </tbody>\n",
       "</table>\n",
       "</div>"
      ],
      "text/plain": [
       "       source                                              Title   Group  \\\n",
       "0  0827229534            Patterns of Preaching: A Sermon Sampler    Book   \n",
       "1  0738700797                         Candlemas: Feast of Flames    Book   \n",
       "2  0842328327   Life Application Bible Commentary: 1 and 2 Ti...    Book   \n",
       "3  1577943082    Prayers That Avail Much for Business: Executive    Book   \n",
       "4  B00000AU3R                                              Batik   Music   \n",
       "\n",
       "   source_id  \n",
       "0          1  \n",
       "1          2  \n",
       "2          3  \n",
       "3          4  \n",
       "4          5  "
      ]
     },
     "execution_count": 393,
     "metadata": {},
     "output_type": "execute_result"
    }
   ],
   "source": [
    "df_node.head()"
   ]
  },
  {
   "cell_type": "code",
   "execution_count": 392,
   "metadata": {},
   "outputs": [],
   "source": [
    "df_node = df_node.drop('idx', axis=1)"
   ]
  },
  {
   "cell_type": "code",
   "execution_count": 395,
   "metadata": {},
   "outputs": [
    {
     "data": {
      "text/html": [
       "<div>\n",
       "<style scoped>\n",
       "    .dataframe tbody tr th:only-of-type {\n",
       "        vertical-align: middle;\n",
       "    }\n",
       "\n",
       "    .dataframe tbody tr th {\n",
       "        vertical-align: top;\n",
       "    }\n",
       "\n",
       "    .dataframe thead th {\n",
       "        text-align: right;\n",
       "    }\n",
       "</style>\n",
       "<table border=\"1\" class=\"dataframe\">\n",
       "  <thead>\n",
       "    <tr style=\"text-align: right;\">\n",
       "      <th></th>\n",
       "      <th>label</th>\n",
       "      <th>Title</th>\n",
       "      <th>Group</th>\n",
       "      <th>Id</th>\n",
       "    </tr>\n",
       "  </thead>\n",
       "  <tbody>\n",
       "    <tr>\n",
       "      <th>0</th>\n",
       "      <td>0827229534</td>\n",
       "      <td>Patterns of Preaching: A Sermon Sampler</td>\n",
       "      <td>Book</td>\n",
       "      <td>1</td>\n",
       "    </tr>\n",
       "    <tr>\n",
       "      <th>1</th>\n",
       "      <td>0738700797</td>\n",
       "      <td>Candlemas: Feast of Flames</td>\n",
       "      <td>Book</td>\n",
       "      <td>2</td>\n",
       "    </tr>\n",
       "    <tr>\n",
       "      <th>2</th>\n",
       "      <td>0842328327</td>\n",
       "      <td>Life Application Bible Commentary: 1 and 2 Ti...</td>\n",
       "      <td>Book</td>\n",
       "      <td>3</td>\n",
       "    </tr>\n",
       "    <tr>\n",
       "      <th>3</th>\n",
       "      <td>1577943082</td>\n",
       "      <td>Prayers That Avail Much for Business: Executive</td>\n",
       "      <td>Book</td>\n",
       "      <td>4</td>\n",
       "    </tr>\n",
       "    <tr>\n",
       "      <th>4</th>\n",
       "      <td>B00000AU3R</td>\n",
       "      <td>Batik</td>\n",
       "      <td>Music</td>\n",
       "      <td>5</td>\n",
       "    </tr>\n",
       "  </tbody>\n",
       "</table>\n",
       "</div>"
      ],
      "text/plain": [
       "        label                                              Title   Group  Id\n",
       "0  0827229534            Patterns of Preaching: A Sermon Sampler    Book   1\n",
       "1  0738700797                         Candlemas: Feast of Flames    Book   2\n",
       "2  0842328327   Life Application Bible Commentary: 1 and 2 Ti...    Book   3\n",
       "3  1577943082    Prayers That Avail Much for Business: Executive    Book   4\n",
       "4  B00000AU3R                                              Batik   Music   5"
      ]
     },
     "execution_count": 395,
     "metadata": {},
     "output_type": "execute_result"
    }
   ],
   "source": [
    "df_node = df_node.rename(columns={'source':'label', 'source_id':'Id'})\n",
    "df_node.head()"
   ]
  },
  {
   "cell_type": "code",
   "execution_count": 377,
   "metadata": {},
   "outputs": [],
   "source": [
    "df_idx = df_idx.drop(columns=['ID1', 'ID2'], axis=1)"
   ]
  },
  {
   "cell_type": "code",
   "execution_count": 389,
   "metadata": {},
   "outputs": [
    {
     "data": {
      "text/html": [
       "<div>\n",
       "<style scoped>\n",
       "    .dataframe tbody tr th:only-of-type {\n",
       "        vertical-align: middle;\n",
       "    }\n",
       "\n",
       "    .dataframe tbody tr th {\n",
       "        vertical-align: top;\n",
       "    }\n",
       "\n",
       "    .dataframe thead th {\n",
       "        text-align: right;\n",
       "    }\n",
       "</style>\n",
       "<table border=\"1\" class=\"dataframe\">\n",
       "  <thead>\n",
       "    <tr style=\"text-align: right;\">\n",
       "      <th></th>\n",
       "      <th>source</th>\n",
       "      <th>Title</th>\n",
       "      <th>Group</th>\n",
       "      <th>target</th>\n",
       "      <th>source_id</th>\n",
       "      <th>target_id</th>\n",
       "    </tr>\n",
       "  </thead>\n",
       "  <tbody>\n",
       "    <tr>\n",
       "      <th>1</th>\n",
       "      <td>0827229534</td>\n",
       "      <td>Patterns of Preaching: A Sermon Sampler</td>\n",
       "      <td>Book</td>\n",
       "      <td>0804215715</td>\n",
       "      <td>1</td>\n",
       "      <td>50175</td>\n",
       "    </tr>\n",
       "    <tr>\n",
       "      <th>3</th>\n",
       "      <td>0827229534</td>\n",
       "      <td>Patterns of Preaching: A Sermon Sampler</td>\n",
       "      <td>Book</td>\n",
       "      <td>0687023955</td>\n",
       "      <td>1</td>\n",
       "      <td>36822</td>\n",
       "    </tr>\n",
       "    <tr>\n",
       "      <th>4</th>\n",
       "      <td>0827229534</td>\n",
       "      <td>Patterns of Preaching: A Sermon Sampler</td>\n",
       "      <td>Book</td>\n",
       "      <td>0687074231</td>\n",
       "      <td>1</td>\n",
       "      <td>138053</td>\n",
       "    </tr>\n",
       "    <tr>\n",
       "      <th>5</th>\n",
       "      <td>0827229534</td>\n",
       "      <td>Patterns of Preaching: A Sermon Sampler</td>\n",
       "      <td>Book</td>\n",
       "      <td>082721619X</td>\n",
       "      <td>1</td>\n",
       "      <td>155436</td>\n",
       "    </tr>\n",
       "    <tr>\n",
       "      <th>6</th>\n",
       "      <td>0738700797</td>\n",
       "      <td>Candlemas: Feast of Flames</td>\n",
       "      <td>Book</td>\n",
       "      <td>0738700827</td>\n",
       "      <td>2</td>\n",
       "      <td>141360</td>\n",
       "    </tr>\n",
       "  </tbody>\n",
       "</table>\n",
       "</div>"
      ],
      "text/plain": [
       "       source                                     Title  Group      target  \\\n",
       "1  0827229534   Patterns of Preaching: A Sermon Sampler   Book  0804215715   \n",
       "3  0827229534   Patterns of Preaching: A Sermon Sampler   Book  0687023955   \n",
       "4  0827229534   Patterns of Preaching: A Sermon Sampler   Book  0687074231   \n",
       "5  0827229534   Patterns of Preaching: A Sermon Sampler   Book  082721619X   \n",
       "6  0738700797                Candlemas: Feast of Flames   Book  0738700827   \n",
       "\n",
       "   source_id  target_id  \n",
       "1          1      50175  \n",
       "3          1      36822  \n",
       "4          1     138053  \n",
       "5          1     155436  \n",
       "6          2     141360  "
      ]
     },
     "execution_count": 389,
     "metadata": {},
     "output_type": "execute_result"
    }
   ],
   "source": [
    "df_idx.head()"
   ]
  },
  {
   "cell_type": "code",
   "execution_count": 397,
   "metadata": {},
   "outputs": [
    {
     "data": {
      "text/html": [
       "<div>\n",
       "<style scoped>\n",
       "    .dataframe tbody tr th:only-of-type {\n",
       "        vertical-align: middle;\n",
       "    }\n",
       "\n",
       "    .dataframe tbody tr th {\n",
       "        vertical-align: top;\n",
       "    }\n",
       "\n",
       "    .dataframe thead th {\n",
       "        text-align: right;\n",
       "    }\n",
       "</style>\n",
       "<table border=\"1\" class=\"dataframe\">\n",
       "  <thead>\n",
       "    <tr style=\"text-align: right;\">\n",
       "      <th></th>\n",
       "      <th>from</th>\n",
       "      <th>Title</th>\n",
       "      <th>Group</th>\n",
       "      <th>to</th>\n",
       "      <th>source</th>\n",
       "      <th>target</th>\n",
       "    </tr>\n",
       "  </thead>\n",
       "  <tbody>\n",
       "    <tr>\n",
       "      <th>1</th>\n",
       "      <td>0827229534</td>\n",
       "      <td>Patterns of Preaching: A Sermon Sampler</td>\n",
       "      <td>Book</td>\n",
       "      <td>0804215715</td>\n",
       "      <td>1</td>\n",
       "      <td>50175</td>\n",
       "    </tr>\n",
       "    <tr>\n",
       "      <th>3</th>\n",
       "      <td>0827229534</td>\n",
       "      <td>Patterns of Preaching: A Sermon Sampler</td>\n",
       "      <td>Book</td>\n",
       "      <td>0687023955</td>\n",
       "      <td>1</td>\n",
       "      <td>36822</td>\n",
       "    </tr>\n",
       "    <tr>\n",
       "      <th>4</th>\n",
       "      <td>0827229534</td>\n",
       "      <td>Patterns of Preaching: A Sermon Sampler</td>\n",
       "      <td>Book</td>\n",
       "      <td>0687074231</td>\n",
       "      <td>1</td>\n",
       "      <td>138053</td>\n",
       "    </tr>\n",
       "    <tr>\n",
       "      <th>5</th>\n",
       "      <td>0827229534</td>\n",
       "      <td>Patterns of Preaching: A Sermon Sampler</td>\n",
       "      <td>Book</td>\n",
       "      <td>082721619X</td>\n",
       "      <td>1</td>\n",
       "      <td>155436</td>\n",
       "    </tr>\n",
       "    <tr>\n",
       "      <th>6</th>\n",
       "      <td>0738700797</td>\n",
       "      <td>Candlemas: Feast of Flames</td>\n",
       "      <td>Book</td>\n",
       "      <td>0738700827</td>\n",
       "      <td>2</td>\n",
       "      <td>141360</td>\n",
       "    </tr>\n",
       "  </tbody>\n",
       "</table>\n",
       "</div>"
      ],
      "text/plain": [
       "         from                                     Title  Group          to  \\\n",
       "1  0827229534   Patterns of Preaching: A Sermon Sampler   Book  0804215715   \n",
       "3  0827229534   Patterns of Preaching: A Sermon Sampler   Book  0687023955   \n",
       "4  0827229534   Patterns of Preaching: A Sermon Sampler   Book  0687074231   \n",
       "5  0827229534   Patterns of Preaching: A Sermon Sampler   Book  082721619X   \n",
       "6  0738700797                Candlemas: Feast of Flames   Book  0738700827   \n",
       "\n",
       "   source  target  \n",
       "1       1   50175  \n",
       "3       1   36822  \n",
       "4       1  138053  \n",
       "5       1  155436  \n",
       "6       2  141360  "
      ]
     },
     "execution_count": 397,
     "metadata": {},
     "output_type": "execute_result"
    }
   ],
   "source": [
    "df_idx = df_idx.rename(columns={'source':'from', 'source_id':'source', 'target':'to', 'target_id':'target'})\n",
    "df_idx.head()"
   ]
  },
  {
   "cell_type": "code",
   "execution_count": 385,
   "metadata": {},
   "outputs": [],
   "source": [
    "unique= pd.unique(np.append(df_idx['source'].unique(), df_idx['target'].unique()))\n",
    "\n",
    "def get_unique_id(x):\n",
    "    return np.where(unique==x)[0][0]+1\n",
    "\n",
    "df_idx['source_id']= df_idx['source'].map(get_unique_id)\n",
    "df_idx['target_id']= df_idx['target'].map(get_unique_id)"
   ]
  },
  {
   "cell_type": "code",
   "execution_count": 387,
   "metadata": {},
   "outputs": [],
   "source": [
    "df_node['source_id'] = df_node['source'].map(get_unique_id)"
   ]
  },
  {
   "cell_type": "code",
   "execution_count": 398,
   "metadata": {},
   "outputs": [],
   "source": [
    "df_idx.to_csv('../data/amazon_meta/node_list_final.csv', index=0)\n",
    "df_node.to_csv('../data/amazon_meta/edge_list_final.csv', index=0)"
   ]
  },
  {
   "cell_type": "code",
   "execution_count": null,
   "metadata": {},
   "outputs": [],
   "source": [
    "for idx, row in df_idx.iterrows():\n",
    "    row['ID1'] = df_node.iloc[df_node[df_node.source == row['source']].index]['idx'].values[0]\n",
    "    row['ID2'] = df_node.iloc[df_node[df_node.source == row['target']].index]['idx'].values[0]\n",
    "    "
   ]
  }
 ],
 "metadata": {
  "kernelspec": {
   "display_name": "Python 3.10.8 64-bit",
   "language": "python",
   "name": "python3"
  },
  "language_info": {
   "codemirror_mode": {
    "name": "ipython",
    "version": 3
   },
   "file_extension": ".py",
   "mimetype": "text/x-python",
   "name": "python",
   "nbconvert_exporter": "python",
   "pygments_lexer": "ipython3",
   "version": "3.10.8"
  },
  "orig_nbformat": 4,
  "vscode": {
   "interpreter": {
    "hash": "989f1c85a0753a3f5387357a9d8cdada932b18385ad81a9223bb8329c9a4fd3b"
   }
  }
 },
 "nbformat": 4,
 "nbformat_minor": 2
}
