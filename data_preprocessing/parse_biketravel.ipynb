{
 "cells": [
  {
   "cell_type": "code",
   "execution_count": 3,
   "metadata": {},
   "outputs": [],
   "source": [
    "import pandas as pd\n",
    "import numpy as np\n",
    "import matplotlib.pyplot as plt\n",
    "import networkx as nx"
   ]
  },
  {
   "cell_type": "code",
   "execution_count": 12,
   "metadata": {},
   "outputs": [
    {
     "data": {
      "text/html": [
       "<div>\n",
       "<style scoped>\n",
       "    .dataframe tbody tr th:only-of-type {\n",
       "        vertical-align: middle;\n",
       "    }\n",
       "\n",
       "    .dataframe tbody tr th {\n",
       "        vertical-align: top;\n",
       "    }\n",
       "\n",
       "    .dataframe thead th {\n",
       "        text-align: right;\n",
       "    }\n",
       "</style>\n",
       "<table border=\"1\" class=\"dataframe\">\n",
       "  <thead>\n",
       "    <tr style=\"text-align: right;\">\n",
       "      <th></th>\n",
       "      <th>Rental Id</th>\n",
       "      <th>Duration</th>\n",
       "      <th>Bike Id</th>\n",
       "      <th>End Date</th>\n",
       "      <th>EndStation Id</th>\n",
       "      <th>EndStation Name</th>\n",
       "      <th>Start Date</th>\n",
       "      <th>StartStation Id</th>\n",
       "      <th>StartStation Name</th>\n",
       "    </tr>\n",
       "  </thead>\n",
       "  <tbody>\n",
       "    <tr>\n",
       "      <th>0</th>\n",
       "      <td>116223078</td>\n",
       "      <td>840</td>\n",
       "      <td>19512</td>\n",
       "      <td>14/01/2022 15:17</td>\n",
       "      <td>624</td>\n",
       "      <td>Courland Grove, Wandsworth Road</td>\n",
       "      <td>14/01/2022 15:03</td>\n",
       "      <td>440</td>\n",
       "      <td>Kennington Oval, Oval</td>\n",
       "    </tr>\n",
       "    <tr>\n",
       "      <th>1</th>\n",
       "      <td>116171339</td>\n",
       "      <td>840</td>\n",
       "      <td>16851</td>\n",
       "      <td>12/01/2022 16:04</td>\n",
       "      <td>437</td>\n",
       "      <td>Vauxhall Walk, Vauxhall</td>\n",
       "      <td>12/01/2022 15:50</td>\n",
       "      <td>440</td>\n",
       "      <td>Kennington Oval, Oval</td>\n",
       "    </tr>\n",
       "    <tr>\n",
       "      <th>2</th>\n",
       "      <td>116196860</td>\n",
       "      <td>540</td>\n",
       "      <td>5063</td>\n",
       "      <td>13/01/2022 15:15</td>\n",
       "      <td>186</td>\n",
       "      <td>South Wharf Road, Paddington</td>\n",
       "      <td>13/01/2022 15:06</td>\n",
       "      <td>210</td>\n",
       "      <td>Hinde Street, Marylebone</td>\n",
       "    </tr>\n",
       "    <tr>\n",
       "      <th>3</th>\n",
       "      <td>116338933</td>\n",
       "      <td>1020</td>\n",
       "      <td>20385</td>\n",
       "      <td>18/01/2022 21:18</td>\n",
       "      <td>624</td>\n",
       "      <td>Courland Grove, Wandsworth Road</td>\n",
       "      <td>18/01/2022 21:01</td>\n",
       "      <td>435</td>\n",
       "      <td>Kennington Station, Kennington</td>\n",
       "    </tr>\n",
       "    <tr>\n",
       "      <th>4</th>\n",
       "      <td>116176657</td>\n",
       "      <td>600</td>\n",
       "      <td>18885</td>\n",
       "      <td>12/01/2022 18:28</td>\n",
       "      <td>676</td>\n",
       "      <td>Hartington Road, Stockwell</td>\n",
       "      <td>12/01/2022 18:18</td>\n",
       "      <td>437</td>\n",
       "      <td>Vauxhall Walk, Vauxhall</td>\n",
       "    </tr>\n",
       "  </tbody>\n",
       "</table>\n",
       "</div>"
      ],
      "text/plain": [
       "   Rental Id  Duration  Bike Id          End Date  EndStation Id  \\\n",
       "0  116223078       840    19512  14/01/2022 15:17            624   \n",
       "1  116171339       840    16851  12/01/2022 16:04            437   \n",
       "2  116196860       540     5063  13/01/2022 15:15            186   \n",
       "3  116338933      1020    20385  18/01/2022 21:18            624   \n",
       "4  116176657       600    18885  12/01/2022 18:28            676   \n",
       "\n",
       "                   EndStation Name        Start Date  StartStation Id  \\\n",
       "0  Courland Grove, Wandsworth Road  14/01/2022 15:03              440   \n",
       "1          Vauxhall Walk, Vauxhall  12/01/2022 15:50              440   \n",
       "2     South Wharf Road, Paddington  13/01/2022 15:06              210   \n",
       "3  Courland Grove, Wandsworth Road  18/01/2022 21:01              435   \n",
       "4       Hartington Road, Stockwell  12/01/2022 18:18              437   \n",
       "\n",
       "                StartStation Name  \n",
       "0           Kennington Oval, Oval  \n",
       "1           Kennington Oval, Oval  \n",
       "2        Hinde Street, Marylebone  \n",
       "3  Kennington Station, Kennington  \n",
       "4         Vauxhall Walk, Vauxhall  "
      ]
     },
     "execution_count": 12,
     "metadata": {},
     "output_type": "execute_result"
    }
   ],
   "source": [
    "df = pd.read_csv('./data/bike/1.csv')\n",
    "df.head()"
   ]
  },
  {
   "cell_type": "code",
   "execution_count": null,
   "metadata": {},
   "outputs": [],
   "source": [
    "for i in range(2, 12):\n",
    "    df_ = pd.read_csv(f'./data/bike/{i}.csv')\n",
    "    df = pd.concat([df, df_], ignore_index=True)"
   ]
  },
  {
   "cell_type": "code",
   "execution_count": 15,
   "metadata": {},
   "outputs": [
    {
     "data": {
      "text/plain": [
       "(2267313, 9)"
      ]
     },
     "execution_count": 15,
     "metadata": {},
     "output_type": "execute_result"
    }
   ],
   "source": [
    "df.shape"
   ]
  },
  {
   "cell_type": "code",
   "execution_count": 20,
   "metadata": {},
   "outputs": [
    {
     "data": {
      "text/html": [
       "<div>\n",
       "<style scoped>\n",
       "    .dataframe tbody tr th:only-of-type {\n",
       "        vertical-align: middle;\n",
       "    }\n",
       "\n",
       "    .dataframe tbody tr th {\n",
       "        vertical-align: top;\n",
       "    }\n",
       "\n",
       "    .dataframe thead th {\n",
       "        text-align: right;\n",
       "    }\n",
       "</style>\n",
       "<table border=\"1\" class=\"dataframe\">\n",
       "  <thead>\n",
       "    <tr style=\"text-align: right;\">\n",
       "      <th></th>\n",
       "      <th>Rental Id</th>\n",
       "      <th>Duration</th>\n",
       "      <th>Bike Id</th>\n",
       "      <th>End Date</th>\n",
       "      <th>EndStation Id</th>\n",
       "      <th>EndStation Name</th>\n",
       "      <th>Start Date</th>\n",
       "      <th>StartStation Id</th>\n",
       "      <th>StartStation Name</th>\n",
       "    </tr>\n",
       "  </thead>\n",
       "  <tbody>\n",
       "    <tr>\n",
       "      <th>0</th>\n",
       "      <td>116223078</td>\n",
       "      <td>840</td>\n",
       "      <td>19512</td>\n",
       "      <td>14/01/2022 15:17</td>\n",
       "      <td>624</td>\n",
       "      <td>Courland Grove, Wandsworth Road</td>\n",
       "      <td>14/01/2022 15:03</td>\n",
       "      <td>440</td>\n",
       "      <td>Kennington Oval, Oval</td>\n",
       "    </tr>\n",
       "    <tr>\n",
       "      <th>1</th>\n",
       "      <td>116171339</td>\n",
       "      <td>840</td>\n",
       "      <td>16851</td>\n",
       "      <td>12/01/2022 16:04</td>\n",
       "      <td>437</td>\n",
       "      <td>Vauxhall Walk, Vauxhall</td>\n",
       "      <td>12/01/2022 15:50</td>\n",
       "      <td>440</td>\n",
       "      <td>Kennington Oval, Oval</td>\n",
       "    </tr>\n",
       "    <tr>\n",
       "      <th>2</th>\n",
       "      <td>116196860</td>\n",
       "      <td>540</td>\n",
       "      <td>5063</td>\n",
       "      <td>13/01/2022 15:15</td>\n",
       "      <td>186</td>\n",
       "      <td>South Wharf Road, Paddington</td>\n",
       "      <td>13/01/2022 15:06</td>\n",
       "      <td>210</td>\n",
       "      <td>Hinde Street, Marylebone</td>\n",
       "    </tr>\n",
       "    <tr>\n",
       "      <th>3</th>\n",
       "      <td>116338933</td>\n",
       "      <td>1020</td>\n",
       "      <td>20385</td>\n",
       "      <td>18/01/2022 21:18</td>\n",
       "      <td>624</td>\n",
       "      <td>Courland Grove, Wandsworth Road</td>\n",
       "      <td>18/01/2022 21:01</td>\n",
       "      <td>435</td>\n",
       "      <td>Kennington Station, Kennington</td>\n",
       "    </tr>\n",
       "    <tr>\n",
       "      <th>4</th>\n",
       "      <td>116176657</td>\n",
       "      <td>600</td>\n",
       "      <td>18885</td>\n",
       "      <td>12/01/2022 18:28</td>\n",
       "      <td>676</td>\n",
       "      <td>Hartington Road, Stockwell</td>\n",
       "      <td>12/01/2022 18:18</td>\n",
       "      <td>437</td>\n",
       "      <td>Vauxhall Walk, Vauxhall</td>\n",
       "    </tr>\n",
       "  </tbody>\n",
       "</table>\n",
       "</div>"
      ],
      "text/plain": [
       "   Rental Id  Duration  Bike Id          End Date  EndStation Id  \\\n",
       "0  116223078       840    19512  14/01/2022 15:17            624   \n",
       "1  116171339       840    16851  12/01/2022 16:04            437   \n",
       "2  116196860       540     5063  13/01/2022 15:15            186   \n",
       "3  116338933      1020    20385  18/01/2022 21:18            624   \n",
       "4  116176657       600    18885  12/01/2022 18:28            676   \n",
       "\n",
       "                   EndStation Name        Start Date  StartStation Id  \\\n",
       "0  Courland Grove, Wandsworth Road  14/01/2022 15:03              440   \n",
       "1          Vauxhall Walk, Vauxhall  12/01/2022 15:50              440   \n",
       "2     South Wharf Road, Paddington  13/01/2022 15:06              210   \n",
       "3  Courland Grove, Wandsworth Road  18/01/2022 21:01              435   \n",
       "4       Hartington Road, Stockwell  12/01/2022 18:18              437   \n",
       "\n",
       "                StartStation Name  \n",
       "0           Kennington Oval, Oval  \n",
       "1           Kennington Oval, Oval  \n",
       "2        Hinde Street, Marylebone  \n",
       "3  Kennington Station, Kennington  \n",
       "4         Vauxhall Walk, Vauxhall  "
      ]
     },
     "execution_count": 20,
     "metadata": {},
     "output_type": "execute_result"
    }
   ],
   "source": [
    "df.head()"
   ]
  },
  {
   "cell_type": "code",
   "execution_count": 28,
   "metadata": {},
   "outputs": [],
   "source": [
    "df = df.rename(columns={'Rental Id':'Rental_ID', 'Bike Id': 'Bike_ID', 'End Date':'end_date', 'EndStation Id':'end_id', 'EndStation Name':'end_name', 'Start Date':'start_date', 'StartStation Id':'start_id', 'StartStation Name':'start_name' })"
   ]
  },
  {
   "cell_type": "code",
   "execution_count": 32,
   "metadata": {},
   "outputs": [],
   "source": [
    "df.end_date = pd.to_datetime(df.end_date)"
   ]
  },
  {
   "cell_type": "code",
   "execution_count": 34,
   "metadata": {},
   "outputs": [],
   "source": [
    "df.start_date = pd.to_datetime(df.start_date)"
   ]
  },
  {
   "cell_type": "code",
   "execution_count": 64,
   "metadata": {},
   "outputs": [],
   "source": [
    "df.to_csv('./data/bike_travel.csv', index=0)"
   ]
  },
  {
   "cell_type": "code",
   "execution_count": 74,
   "metadata": {},
   "outputs": [
    {
     "data": {
      "text/html": [
       "<div>\n",
       "<style scoped>\n",
       "    .dataframe tbody tr th:only-of-type {\n",
       "        vertical-align: middle;\n",
       "    }\n",
       "\n",
       "    .dataframe tbody tr th {\n",
       "        vertical-align: top;\n",
       "    }\n",
       "\n",
       "    .dataframe thead th {\n",
       "        text-align: right;\n",
       "    }\n",
       "</style>\n",
       "<table border=\"1\" class=\"dataframe\">\n",
       "  <thead>\n",
       "    <tr style=\"text-align: right;\">\n",
       "      <th></th>\n",
       "      <th>source</th>\n",
       "      <th>target</th>\n",
       "      <th>weight</th>\n",
       "    </tr>\n",
       "  </thead>\n",
       "  <tbody>\n",
       "    <tr>\n",
       "      <th>0</th>\n",
       "      <td>440</td>\n",
       "      <td>624</td>\n",
       "      <td>1</td>\n",
       "    </tr>\n",
       "    <tr>\n",
       "      <th>1</th>\n",
       "      <td>440</td>\n",
       "      <td>437</td>\n",
       "      <td>1</td>\n",
       "    </tr>\n",
       "    <tr>\n",
       "      <th>2</th>\n",
       "      <td>210</td>\n",
       "      <td>186</td>\n",
       "      <td>1</td>\n",
       "    </tr>\n",
       "    <tr>\n",
       "      <th>3</th>\n",
       "      <td>435</td>\n",
       "      <td>624</td>\n",
       "      <td>1</td>\n",
       "    </tr>\n",
       "    <tr>\n",
       "      <th>4</th>\n",
       "      <td>437</td>\n",
       "      <td>676</td>\n",
       "      <td>1</td>\n",
       "    </tr>\n",
       "  </tbody>\n",
       "</table>\n",
       "</div>"
      ],
      "text/plain": [
       "   source  target  weight\n",
       "0     440     624       1\n",
       "1     440     437       1\n",
       "2     210     186       1\n",
       "3     435     624       1\n",
       "4     437     676       1"
      ]
     },
     "execution_count": 74,
     "metadata": {},
     "output_type": "execute_result"
    }
   ],
   "source": [
    "travel_info = df[['start_id', 'end_id']]\n",
    "travel_info = travel_info.rename(columns={'start_id':'source', 'end_id':'target'})\n",
    "travel_info['weight'] = 1\n",
    "travel_info.head()"
   ]
  },
  {
   "cell_type": "code",
   "execution_count": 75,
   "metadata": {},
   "outputs": [],
   "source": [
    "travel_info = travel_info.groupby(['source', 'target']).aggregate({'weight':'count'}).reset_index()"
   ]
  },
  {
   "cell_type": "code",
   "execution_count": 76,
   "metadata": {},
   "outputs": [
    {
     "data": {
      "text/plain": [
       "(277852, 3)"
      ]
     },
     "execution_count": 76,
     "metadata": {},
     "output_type": "execute_result"
    }
   ],
   "source": [
    "travel_info.shape"
   ]
  },
  {
   "cell_type": "code",
   "execution_count": 78,
   "metadata": {},
   "outputs": [],
   "source": [
    "travel_info.to_csv('./data/bike_travel/bike_travel_edge_list.csv', index=0)"
   ]
  },
  {
   "cell_type": "code",
   "execution_count": 77,
   "metadata": {},
   "outputs": [],
   "source": [
    "bike_travel = nx.from_pandas_edgelist(travel_info, create_using=nx.DiGraph())"
   ]
  }
 ],
 "metadata": {
  "kernelspec": {
   "display_name": "Python 3.10.8 64-bit",
   "language": "python",
   "name": "python3"
  },
  "language_info": {
   "codemirror_mode": {
    "name": "ipython",
    "version": 3
   },
   "file_extension": ".py",
   "mimetype": "text/x-python",
   "name": "python",
   "nbconvert_exporter": "python",
   "pygments_lexer": "ipython3",
   "version": "3.10.8"
  },
  "orig_nbformat": 4,
  "vscode": {
   "interpreter": {
    "hash": "989f1c85a0753a3f5387357a9d8cdada932b18385ad81a9223bb8329c9a4fd3b"
   }
  }
 },
 "nbformat": 4,
 "nbformat_minor": 2
}
